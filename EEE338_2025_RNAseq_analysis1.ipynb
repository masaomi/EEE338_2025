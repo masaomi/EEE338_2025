{
 "cells": [
  {
   "cell_type": "markdown",
   "metadata": {
    "slideshow": {
     "slide_type": "slide"
    }
   },
   "source": [
    "\n",
    "# EEE338 NGS Bioinformatics, RNAseq analysis part1\n",
    "\n",
    "* 19 Sep. 2025\n",
    "* Masaomi Hatakeyama\n",
    "    - https://github.com/masaomi/EEE338_2025\n"
   ]
  },
  {
   "cell_type": "markdown",
   "metadata": {
    "slideshow": {
     "slide_type": "slide"
    }
   },
   "source": [
    "# Learning Objectives\n",
    "\n",
    "By the end of today's session, you will be able to:\n",
    "\n",
    "* **Explain** the differences between spliced and unspliced alignment methods\n",
    "* **Understand** when to use different alignment algorithms "
   ]
  },
  {
   "cell_type": "markdown",
   "metadata": {
    "slideshow": {
     "slide_type": "slide"
    }
   },
   "source": [
    "# RNA-seq workflow Review\n",
    "\n",
    "1. Sequencing\n",
    "2. Quality Control\n",
    "3. Mapping / Alignment\n",
    "4. Estimate Expression Level\n",
    "    - Differential Expression\n",
    "    - Functional Analysis\n",
    "    - etc.\n"
   ]
  },
  {
   "cell_type": "markdown",
   "metadata": {
    "slideshow": {
     "slide_type": "subslide"
    }
   },
   "source": [
    "# RNA-seq workflow Review\n",
    "\n",
    "1. Sequencing\n",
    "2. Quality Control\n",
    "3. **Mapping / Alignment**\n",
    "4. Estimate Expression Level\n",
    "    - Differential Expression\n",
    "    - Functional Analysis\n",
    "    - etc.\n"
   ]
  },
  {
   "cell_type": "markdown",
   "metadata": {
    "slideshow": {
     "slide_type": "slide"
    }
   },
   "source": [
    "# Mapping / Alignment\n",
    "\n",
    "<img src=\"https://raw.githubusercontent.com/masaomi/EEE338_2025/master/png/mapping.png\" width=\"700px\">\n",
    "\n",
    "* Align short reads onto a reference sequence<br>\n",
    "\n"
   ]
  },
  {
   "cell_type": "markdown",
   "metadata": {
    "slideshow": {
     "slide_type": "fragment"
    }
   },
   "source": [
    "   $\\Longrightarrow$ **Reference sequence** is necessary"
   ]
  },
  {
   "cell_type": "markdown",
   "metadata": {
    "slideshow": {
     "slide_type": "subslide"
    }
   },
   "source": [
    "# Alignment/Homology Search\n",
    "\n",
    "<div align=\"center\">\n",
    "    <img src=\"https://raw.githubusercontent.com/masaomi/EEE338_2025/master/png/multi_alignment.png\" width=\"500px\">\n",
    "</div>\n",
    "\n",
    "- **Pairwise** alignment<br>\n",
    "    find the best-matching piecewise alignments of two sequences<br>\n",
    "    *BLAST, Bowtie, BWA*\n",
    "- **Multiple** alignment<br>\n",
    "    find the best-matching of more than two sequences<br>\n",
    "    *ClustalW, MUSCLE, MAFFT*\n"
   ]
  },
  {
   "cell_type": "markdown",
   "metadata": {
    "slideshow": {
     "slide_type": "subslide"
    }
   },
   "source": [
    "# Alignment/Homology Search\n",
    "\n",
    "\n",
    "Most of RNAseq aligners use\n"
   ]
  },
  {
   "cell_type": "markdown",
   "metadata": {
    "slideshow": {
     "slide_type": "fragment"
    }
   },
   "source": [
    "$\\Longrightarrow$ **Pairwise** alignment\n",
    "\n",
    "*why?*"
   ]
  },
  {
   "cell_type": "markdown",
   "metadata": {
    "slideshow": {
     "slide_type": "subslide"
    }
   },
   "source": [
    "# Alignment/Homology Search\n",
    "\n",
    "\n",
    "When you compare genes between species, you should use\n"
   ]
  },
  {
   "cell_type": "markdown",
   "metadata": {
    "slideshow": {
     "slide_type": "fragment"
    }
   },
   "source": [
    "$\\Longrightarrow$ **Multiple** alignment\n",
    "\n",
    "*why?*"
   ]
  },
  {
   "cell_type": "markdown",
   "metadata": {
    "slideshow": {
     "slide_type": "slide"
    }
   },
   "source": [
    "# Pairwise alignment\n",
    "\n",
    "<div align=\"center\">\n",
    " <img src=\"https://raw.githubusercontent.com/masaomi/EEE338_2025/master/png/global-local-alignment.png\" width=\"500px\">\n",
    "</div>\n",
    "\n",
    "- **Global** alignment<br>\n",
    "    find the best match of both sequences in their entirety\n",
    "- **Local** alignment<br>\n",
    "    find the best match of both sequences partially\n"
   ]
  },
  {
   "cell_type": "markdown",
   "metadata": {
    "slideshow": {
     "slide_type": "subslide"
    }
   },
   "source": [
    "# Pairwise alignment\n",
    "\n",
    "Most of RNAseq aligners use\n"
   ]
  },
  {
   "cell_type": "markdown",
   "metadata": {
    "slideshow": {
     "slide_type": "fragment"
    }
   },
   "source": [
    "\n",
    "$\\Longrightarrow$ **Local** alignment\n",
    "\n",
    "*why?*\n"
   ]
  },
  {
   "cell_type": "markdown",
   "metadata": {
    "slideshow": {
     "slide_type": "slide"
    }
   },
   "source": [
    "# Pairwise Alignment\n",
    "\n",
    "* Global Alignment\n",
    "  * Needleman-Wunsch method<sup>1</sup>\n",
    "* Local Alignment\n",
    "  * Smith-Waterman method<sup>2</sup>\n",
    "\n",
    "<br><br>\n",
    "<div class=\"small\">\n",
    "    <ol>\n",
    "        <li>S.B. Needlman et al., J. Mol. Biol., 48:443-453, 1970.</li>\n",
    "        <li>T.F. Smith et al., J. Mol. Biol., 147:195-197, 1981.</li>\n",
    "    </ol>\n",
    "</div>"
   ]
  },
  {
   "cell_type": "markdown",
   "metadata": {
    "slideshow": {
     "slide_type": "slide"
    }
   },
   "source": [
    "# Smith-Waterman\n",
    "\n",
    "<div align=\"center\">\n",
    "  <img src=\"https://raw.githubusercontent.com/masaomi/EEE338_2025/master/png/smith_waterman.png\" width=\"500px\">\n",
    "</div>\n",
    "\n",
    "1. Make a score matrix\n",
    "2. Trace back to get an alignment\n"
   ]
  },
  {
   "cell_type": "markdown",
   "metadata": {
    "slideshow": {
     "slide_type": "fragment"
    }
   },
   "source": [
    "$\\Longrightarrow$ **Slow but sensitive**"
   ]
  },
  {
   "cell_type": "markdown",
   "metadata": {
    "slideshow": {
     "slide_type": "subslide"
    }
   },
   "source": [
    "### Example\n",
    "\n",
    "<div align=\"center\">\n",
    " <img src=\"https://raw.githubusercontent.com/masaomi/EEE338_2025/master/png/sw.png\" width=\"600px\">\n",
    "</div>"
   ]
  },
  {
   "cell_type": "markdown",
   "metadata": {
    "slideshow": {
     "slide_type": "subslide"
    }
   },
   "source": [
    "# Smith-Waterman example (step1)\n",
    "\n",
    "1. Put 0 in the 1st row and 1st column\n",
    "2. Focus on i=1 (row), j=1 (col) position\n",
    "3. Calculate the following 4 values\n",
    "\n",
    "\n",
    "- $H_{i-1, j-1} + w(a,b) = H_{0,0} + w(\"A\", \"A\") = 0+2 =2$\n",
    "- $H_{i-1, j} + w(a,-) = H_{0,1} + w(\"A\", -) = 0-1 = -1$\n",
    "- $H_{i, j-1} + w(-,b) = H_{1,0} + w(-, \"A\") = 0-1 = -1$\n",
    "- $0$\n"
   ]
  },
  {
   "cell_type": "markdown",
   "metadata": {
    "slideshow": {
     "slide_type": "subslide"
    }
   },
   "source": [
    "# Smith-Waterman example (step2)\n",
    "\n",
    "1. Compare the following 4 values\n",
    "2. Select the max value\n",
    "3. Repeat this process until all celles are filled\n",
    "4. Backtrace from the biggest value\n"
   ]
  },
  {
   "cell_type": "markdown",
   "metadata": {
    "slideshow": {
     "slide_type": "subslide"
    }
   },
   "source": [
    "# Smith-Waterman Example\n",
    "\n",
    "<div align=\"center\">\n",
    "  <img src=\"https://raw.githubusercontent.com/masaomi/EEE338_2025/master/png/smith_answer.png\" width=\"600px\">\n",
    "</div>\n",
    "\n",
    "Trace back the path on the biggest score from the right bottom\n",
    "* Sequence 1 = A-CACACTA\n",
    "* Sequence 2 = AGCACAC-A\n"
   ]
  },
  {
   "cell_type": "markdown",
   "metadata": {
    "slideshow": {
     "slide_type": "slide"
    }
   },
   "source": [
    "# Exercise\n",
    "\n",
    "Make a SW table and align the two sequences\n",
    "\n",
    "* Sequence1: CACA\n",
    "* Sequence2: AGCA\n",
    "* Match +2, Mismatch = Gap = -1\n",
    "\n"
   ]
  },
  {
   "cell_type": "markdown",
   "metadata": {
    "slideshow": {
     "slide_type": "slide"
    }
   },
   "source": [
    "# Key Takeaways: alignment fundamentals\n",
    "\n",
    "* **Pairwise vs Multiple**: RNA-seq uses pairwise alignment (read vs reference)\n",
    "* **Global vs Local**: RNA-seq uses local alignment (find position in long reference)\n",
    "* **Smith-Waterman**: Optimal but slow → practical aligners use heuristics"
   ]
  },
  {
   "cell_type": "markdown",
   "metadata": {
    "slideshow": {
     "slide_type": "subslide"
    }
   },
   "source": [
    "## Why these choices?\n",
    "* **Pairwise**: Computationally feasible for millions of reads\n",
    "* **Local**: Short reads mapping to long genome/transcriptome\n",
    "* **Heuristic methods**: Balance between speed and sensitivity\n",
    "\n",
    "*Next: How do we make it fast enough for millions of reads?*\n"
   ]
  },
  {
   "cell_type": "markdown",
   "metadata": {
    "slideshow": {
     "slide_type": "slide"
    }
   },
   "source": [
    "# Where is GATTACA?\n",
    "\n",
    "<div align=\"center\">\n",
    "  <img src=\"https://raw.githubusercontent.com/masaomi/EEE338_2025/master/png/gattaka0.png\" width=\"700px\">\n",
    "</div>\n",
    "\n",
    "<div class=\"small\">Gattaca, a 1997 American SF film by Andrew Niccol</div>"
   ]
  },
  {
   "cell_type": "markdown",
   "metadata": {
    "slideshow": {
     "slide_type": "subslide"
    }
   },
   "source": [
    "# Where is GATTACA?\n",
    "\n",
    "<div align=\"center\">\n",
    "  <img src=\"https://raw.githubusercontent.com/masaomi/EEE338_2025/master/png/gattaka1.png\" width=\"700px\">\n",
    "    </div>"
   ]
  },
  {
   "cell_type": "markdown",
   "metadata": {
    "slideshow": {
     "slide_type": "subslide"
    }
   },
   "source": [
    "# Where is GATTACA?\n",
    "\n",
    "<div align=\"center\">\n",
    "  <img src=\"https://raw.githubusercontent.com/masaomi/EEE338_2025/master/png/gattaka2.png\" width=\"700px\">\n",
    "    </div>"
   ]
  },
  {
   "cell_type": "markdown",
   "metadata": {
    "slideshow": {
     "slide_type": "subslide"
    }
   },
   "source": [
    "# Where is GATTACA?\n",
    "\n",
    "<div align=\"center\">\n",
    "  <img src=\"https://raw.githubusercontent.com/masaomi/EEE338_2025/master/png/gattaka3.png\" width=\"700px\">\n",
    "    </div>\n"
   ]
  },
  {
   "cell_type": "markdown",
   "metadata": {
    "slideshow": {
     "slide_type": "slide"
    }
   },
   "source": [
    "# Matches & Mismatches\n",
    "\n",
    "<div align=\"center\">\n",
    "  <img src=\"https://raw.githubusercontent.com/masaomi/EEE338_2025/master/png/match_mismatch.png\" width=\"700px\">\n",
    "    </div>\n"
   ]
  },
  {
   "cell_type": "markdown",
   "metadata": {
    "slideshow": {
     "slide_type": "subslide"
    }
   },
   "source": [
    "# Gap & Soft trimming\n",
    "\n",
    "<div align=\"center\">\n",
    "  <img src=\"https://raw.githubusercontent.com/masaomi/EEE338_2025/master/png/gap_handling.png\" width=\"700px\">\n",
    "    </div>"
   ]
  },
  {
   "cell_type": "markdown",
   "metadata": {
    "slideshow": {
     "slide_type": "slide"
    }
   },
   "source": [
    "# How to map million reads?\n",
    "\n",
    "\n",
    "<div align=\"center\">\n",
    "  <img src=\"https://raw.githubusercontent.com/masaomi/EEE338_2025/master/png/howtomillion.png\" width=\"800px\">\n",
    "    </div>\n"
   ]
  },
  {
   "cell_type": "markdown",
   "metadata": {
    "slideshow": {
     "slide_type": "subslide"
    }
   },
   "source": [
    "# Hash table (seed) method\n",
    "\n",
    "<div align=\"center\">\n",
    "  <img src=\"https://raw.githubusercontent.com/masaomi/EEE338_2025/master/png/hash_table.png\" width=\"800px\">\n",
    "    </div>\n"
   ]
  },
  {
   "cell_type": "markdown",
   "metadata": {
    "slideshow": {
     "slide_type": "slide"
    }
   },
   "source": [
    "# Genome & Transcripts\n",
    "\n",
    "<div align=\"center\">\n",
    "    <img src=\"https://raw.githubusercontent.com/masaomi/EEE338_2025/master/png/transcript_structure.png\" width=\"800px\">\n",
    "    </div>\n",
    "    \n"
   ]
  },
  {
   "cell_type": "markdown",
   "metadata": {
    "slideshow": {
     "slide_type": "slide"
    }
   },
   "source": [
    "# Spliced / Unspliced aligners\n",
    "\n",
    "1. Spliced aligners allow for the presence of introns<br>\n",
    "    BLAT, GMAP/GSNAP, STAR, HISAT<br>\n",
    "    $\\Longrightarrow$ Map mRNA reads to **genome** reference\n",
    "2. Unspliced aligners DO NOT allow for the presence of introns<br>\n",
    "    BLAST, BWA, Bowtie<br>\n",
    "    $\\Longrightarrow$ Map mRNA reads to **transcriptome** reference\n",
    "\n",
    "\n"
   ]
  },
  {
   "cell_type": "markdown",
   "metadata": {
    "slideshow": {
     "slide_type": "fragment"
    }
   },
   "source": [
    "*Which aligner should be used for DNA reads alignment?*"
   ]
  },
  {
   "cell_type": "markdown",
   "metadata": {
    "slideshow": {
     "slide_type": "subslide"
    }
   },
   "source": [
    "# Spliced mapper / Seed extended\n",
    "\n",
    "<div align=\"center\">\n",
    "  <img src=\"https://raw.githubusercontent.com/masaomi/EEE338_2025/master/png/seed_extend_approach.png\" width=\"700px\">\n",
    "</div>\n",
    "\n",
    "<div class=\"small\">Gaber M, 2011, Nature methods, 8(6), 469</div>\n"
   ]
  },
  {
   "cell_type": "markdown",
   "metadata": {
    "slideshow": {
     "slide_type": "slide"
    }
   },
   "source": [
    "# Alignment-free RNA-seq quantification\n",
    "\n",
    "<div align=\"center\">\n",
    "  <img src=\"https://raw.githubusercontent.com/masaomi/EEE338_2025/master/png/kallisto_salmon.png\" width=\"700px\">\n",
    "    </div>\n",
    "\n",
    "* Kallisto 2016, https://pachterlab.github.io/kallisto/\n",
    "* Salmon 2017, https://combine-lab.github.io/salmon/\n",
    "\n"
   ]
  },
  {
   "cell_type": "markdown",
   "metadata": {
    "slideshow": {
     "slide_type": "notes"
    }
   },
   "source": [
    "# de Bruijn Graph (DBG)\n",
    "\n",
    "Read is divided by k-mer\n",
    "\n",
    "  # <img src=\"https://raw.githubusercontent.com/masaomi/EEE338_2025/master/png/bruijn1.png\" width=\"600px\">\n",
    "  # caption = k-mer = 2\n"
   ]
  },
  {
   "cell_type": "markdown",
   "metadata": {
    "slideshow": {
     "slide_type": "slide"
    }
   },
   "source": [
    "# de Bruijn Graph (DBG)\n",
    "\n",
    "Merge graphs with same nodes\n",
    "\n",
    "<div align=\"center\">\n",
    "  <img src=\"https://raw.githubusercontent.com/masaomi/EEE338_2025/master/png/bruijn2.png\" width=\"400px\">\n",
    "    </div>\n"
   ]
  },
  {
   "cell_type": "markdown",
   "metadata": {
    "slideshow": {
     "slide_type": "slide"
    }
   },
   "source": [
    "# Pseudoalignment\n",
    "\n",
    "<div align=\"center\">\n",
    " <img src=\"https://raw.githubusercontent.com/masaomi/EEE338_2025/master/png/pseudoalign.png\" width=\"900px\">\n",
    "    </div>\n"
   ]
  },
  {
   "cell_type": "markdown",
   "metadata": {
    "slideshow": {
     "slide_type": "slide"
    }
   },
   "source": [
    "# Calculation time\n",
    "\n",
    "<div align=\"center\">\n",
    " <img src=\"https://raw.githubusercontent.com/masaomi/EEE338_2025/master/png/kallisto_time.png\" width=\"800px\">\n",
    "    </div>"
   ]
  },
  {
   "cell_type": "markdown",
   "metadata": {
    "slideshow": {
     "slide_type": "slide"
    }
   },
   "source": [
    "# Limitation of alignment-free\n",
    "\n",
    "* Alignment-free and alignment-based quantification methods perform similarly for common gene targets, such as protein-coding genes\n",
    "* However, we have identified a potential pitfall in analyzing and quantifying **lowly-expressed genes** and **small RNAs** with alignment-free pipelines, especially when these small RNAs contain biological variations.\n",
    "\n",
    "https://doi.org/10.1186/s12864-018-4869-5\n",
    "\n"
   ]
  },
  {
   "cell_type": "markdown",
   "metadata": {
    "slideshow": {
     "slide_type": "slide"
    }
   },
   "source": [
    "# Alignment-free tools<br>Kallisto & Salmon\n",
    "\n",
    "* Super ultra fast > STAR, HISAT2\n",
    "* Good performance for well-constructed reference\n",
    "  * Human, Mouse, *Arabidopsis*\n",
    "* Transcriptome reference is needed for T-DBG\n",
    "  * Mis-estimation risk for a draft assembled/annotated genome/polyploid reference?"
   ]
  },
  {
   "cell_type": "markdown",
   "metadata": {
    "slideshow": {
     "slide_type": "fragment"
    }
   },
   "source": [
    "*No annotation, No alignment*"
   ]
  },
  {
   "cell_type": "markdown",
   "metadata": {
    "slideshow": {
     "slide_type": "slide"
    }
   },
   "source": [
    "# Alignment-free methods:  limitations\n",
    "\n",
    "* ❌ **Poor annotation dependency**: Incomplete/draft annotations → inaccurate quantification\n",
    "* ❌ **Low-expressed genes**: Insufficient k-mer coverage affects reliability  \n",
    "* ❌ **Small RNAs**: Short sequences with biological variations poorly handled\n",
    "* ❌ **Novel junction detection**: Cannot discover unknown splice variants\n",
    "* ❌ **Polyploid genomes**: Reference bias issues in allele-specific expression\n"
   ]
  },
  {
   "cell_type": "markdown",
   "metadata": {
    "slideshow": {
     "slide_type": "subslide"
    }
   },
   "source": [
    "## Recommendation\n",
    "**Use alignment-free for**: Well-annotated genomes (human, mouse, *Arabidopsis*) + standard RNA-seq  \n",
    "**Use alignment-based for**: Novel species, splice discovery, SNP calling, structural variants\n"
   ]
  },
  {
   "cell_type": "markdown",
   "metadata": {
    "slideshow": {
     "slide_type": "slide"
    }
   },
   "source": [
    "# Benchmark in polyploid genome\n",
    "\n",
    "<div align=\"center\">\n",
    "<img src=\"https://raw.githubusercontent.com/masaomi/EEE338_2025/master/png/eagle_bench.png\" width=\"400px\">\n",
    "</div>\n",
    "\n",
    "* Error =  classifications to the wrong subgenome / the number of read alignments\n",
    "* using *A. halleri* and *A. lyrata* RNA-seq data (n=3)\n",
    "\n",
    "<div class=\"small\">Tony Kuo and Martin C Frith and Jun Sese and Paul Horton. EAGLE: Explicit Alternative Genome Likelihood Evaluator. BMC Medical Genomics. 11(Suppl 2):28. https://doi.org/10.1186/s12920-018-0342-1</div>"
   ]
  },
  {
   "cell_type": "markdown",
   "metadata": {
    "slideshow": {
     "slide_type": "slide"
    }
   },
   "source": [
    "# How to select a mapper\n",
    "\n",
    "* Mapping tasks\n",
    "  * Spliced or Unspliced\n",
    "  * Genome or Transcriptome reference\n",
    "* Distance between reference and reads\n",
    "  * Highly similar < 2-3% divergence<br>BWT methods, alignment-free methods\n",
    "  * Quite different > 2-3% divergence<br>Seed methods\n"
   ]
  },
  {
   "cell_type": "markdown",
   "metadata": {
    "slideshow": {
     "slide_type": "skip"
    }
   },
   "source": [
    "# How to select a mapper\n",
    "\n",
    "depends on downstream analysis\n",
    "* Read counting of accurate annotated gene - speed over sensitivity, exon fist methods, alignment-free methods\n",
    "* SNP calling - sensitivity over speed\n",
    "* Novel splicing events - seed extended method\n",
    "* Structural variations - clipped alignment, unspliced mapper\n"
   ]
  },
  {
   "cell_type": "markdown",
   "metadata": {
    "slideshow": {
     "slide_type": "slide"
    }
   },
   "source": [
    "# Example Comparison\n",
    "\n",
    "Map *A. halleri* RNA reads to *A. thaliana* genome\n",
    "\n",
    "Mapping rate\n",
    "* Bowtie1: 21.40%\n",
    "* Bowtie2: 51.54%\n",
    "* BWA: 34.2%\n",
    "* STAR: 65.41%"
   ]
  },
  {
   "cell_type": "markdown",
   "metadata": {
    "slideshow": {
     "slide_type": "subslide"
    }
   },
   "source": [
    "# Example Bowtie1 vs STAR\n",
    "\n",
    "<div align=\"center\">\n",
    "  <img src=\"https://raw.githubusercontent.com/masaomi/EEE338_2025/master/png/compare_bowtie1_star.png\" width=\"800px\">\n",
    "    </div>\n"
   ]
  },
  {
   "cell_type": "markdown",
   "metadata": {
    "slideshow": {
     "slide_type": "subslide"
    }
   },
   "source": [
    "# Example Bowtie1,2 vs STAR\n",
    "\n",
    "<div align=\"center\">\n",
    "  <img src=\"https://raw.githubusercontent.com/masaomi/EEE338_2025/master/png/bowtie_vs_star.png\" width=\"800px\">\n",
    "    </div>\n"
   ]
  },
  {
   "cell_type": "markdown",
   "metadata": {
    "slideshow": {
     "slide_type": "slide"
    }
   },
   "source": [
    "# SAM format after mapping\n",
    "\n",
    "* **S**equence **A**lignment **M**ap format<br>\n",
    "  Single unified format for storing read alignments to a reference genome<br>\n",
    "  $\\longrightarrow$ **Text file**, *Human readable*\n",
    "* **B**inary **A**lignment **M**ap format<br>\n",
    "  Binary equivalent of SAM<br>\n",
    "  Developed for fast processing/indexing<br>\n",
    "  $\\longrightarrow$ **Binary file**, *Compressed*\n",
    "\n",
    "http://samtools.github.io/hts-specs/SAMv1.pdf"
   ]
  },
  {
   "cell_type": "markdown",
   "metadata": {
    "slideshow": {
     "slide_type": "subslide"
    }
   },
   "source": [
    "# Example SAM file\n",
    "\n",
    "<div align=\"center\">\n",
    " <img src=\"https://raw.githubusercontent.com/masaomi/EEE338_2025/master/png/sam_example_code.png\" width=\"900px\">\n",
    "    </div>\n"
   ]
  },
  {
   "cell_type": "markdown",
   "metadata": {
    "slideshow": {
     "slide_type": "subslide"
    }
   },
   "source": [
    "# Structure of SAM file\n",
    "\n",
    "* Tab-delimited text file\n",
    "* Optional header section\n",
    "* Followed by alignment section"
   ]
  },
  {
   "cell_type": "markdown",
   "metadata": {
    "slideshow": {
     "slide_type": "subslide"
    }
   },
   "source": [
    "# Alignment section\n",
    "\n",
    "<div align=\"center\">\n",
    " <img src=\"https://raw.githubusercontent.com/masaomi/EEE338_2025/master/png/sam_format.png\" width=\"800px\">\n",
    "    </div>"
   ]
  },
  {
   "cell_type": "markdown",
   "metadata": {
    "slideshow": {
     "slide_type": "subslide"
    }
   },
   "source": [
    "# Mandatory fields\n",
    "\n",
    "<div align=\"center\">\n",
    "  <img src=\"https://raw.githubusercontent.com/masaomi/EEE338_2025/master/png/sam_mandatroy.png\" width=\"800px\">\n",
    "</div>"
   ]
  },
  {
   "cell_type": "markdown",
   "metadata": {
    "slideshow": {
     "slide_type": "slide"
    }
   },
   "source": [
    "# Mapping quality report Samstat\n",
    "\n",
    "<div align=\"center\">\n",
    "  <img src=\"https://raw.githubusercontent.com/masaomi/EEE338_2025/master/png/mapq_report.png\" width=\"800px\">\n",
    "</div>"
   ]
  },
  {
   "cell_type": "markdown",
   "metadata": {
    "slideshow": {
     "slide_type": "slide"
    }
   },
   "source": [
    "# CIGAR String\n",
    "\n",
    "**C**ompact **I**diosyncratic **G**apped **A**lignment **R**eport\n",
    "\n",
    "<div align=\"center\">\n",
    "  <img src=\"https://raw.githubusercontent.com/masaomi/EEE338_2025/master/png/sam_example.png\" width=\"700px\">\n",
    "    </div>\n"
   ]
  },
  {
   "cell_type": "markdown",
   "metadata": {
    "slideshow": {
     "slide_type": "slide"
    }
   },
   "source": [
    "# Mapping Visualization\n",
    "\n",
    "IGV Integrative Genomics Viewer<br>\n",
    "    http://www.broadinstitute.org/igv/home\n",
    "\n",
    "<div align=\"center\">\n",
    "  <img src=\"https://raw.githubusercontent.com/masaomi/EEE338_2025/master/png/igv.png\" width=\"800px\">\n",
    "    </div>\n"
   ]
  },
  {
   "cell_type": "markdown",
   "metadata": {
    "slideshow": {
     "slide_type": "subslide"
    }
   },
   "source": [
    "# IGV\n",
    "\n",
    "<div align=\"center\">\n",
    "  <img src=\"https://raw.githubusercontent.com/masaomi/EEE338_2025/master/png/IGV_example.png\" width=\"800px\">\n",
    "    </div>"
   ]
  },
  {
   "cell_type": "markdown",
   "metadata": {
    "slideshow": {
     "slide_type": "subslide"
    }
   },
   "source": [
    "# SNPs<br>Single Nucleotide Polymorphism\n",
    "\n",
    "<div align=\"center\">\n",
    "  <img src=\"https://raw.githubusercontent.com/masaomi/EEE338_2025/master/png/snps.png\" width=\"800px\">\n",
    "    </div>"
   ]
  },
  {
   "cell_type": "markdown",
   "metadata": {
    "slideshow": {
     "slide_type": "subslide"
    }
   },
   "source": [
    "# Insertion\n",
    "\n",
    "<div align=\"center\">\n",
    "<img src=\"https://raw.githubusercontent.com/masaomi/EEE338_2025/master/png/insertion.png\" width=\"800px\">\n",
    "    </div>"
   ]
  },
  {
   "cell_type": "markdown",
   "metadata": {
    "slideshow": {
     "slide_type": "subslide"
    }
   },
   "source": [
    "# Deletion\n",
    "\n",
    "<div align=\"center\">\n",
    "  <img src=\"https://raw.githubusercontent.com/masaomi/EEE338_2025/master/png/deletion.png\" width=\"800px\">\n",
    "    </div>"
   ]
  },
  {
   "cell_type": "markdown",
   "metadata": {
    "slideshow": {
     "slide_type": "slide"
    }
   },
   "source": [
    "# Mini Summary\n",
    "\n",
    "* **Mapper**: spliced or unspliced?, where to map: genome or transcriptome?\n",
    "* **SAM file**: huge amount of mapping information\n",
    "* **Mapping quality**: highly influences estimation of transcripts reconstruction and abundances\n",
    "* **Data visualization**: helpful for further inspect particularly problematic regions\n"
   ]
  },
  {
   "cell_type": "markdown",
   "metadata": {
    "slideshow": {
     "slide_type": "slide"
    }
   },
   "source": [
    "# Quick review sample data\n",
    "\n",
    "<div align=\"center\">\n",
    " <img src=\"https://raw.githubusercontent.com/masaomi/EEE338_2025/master/png/akama_tim_paper.png\" width=\"800px\">\n",
    "</div>\n",
    "\n"
   ]
  },
  {
   "cell_type": "markdown",
   "metadata": {
    "slideshow": {
     "slide_type": "subslide"
    }
   },
   "source": [
    "# *A. kamchatica* allotetraploid\n",
    "\n",
    "<div align=\"center\">\n",
    " <img src=\"https://raw.githubusercontent.com/masaomi/EEE338_2025/master/png/review1.png\" width=\"800px\">\n",
    "    </div>"
   ]
  },
  {
   "cell_type": "markdown",
   "metadata": {
    "slideshow": {
     "slide_type": "slide"
    }
   },
   "source": [
    "# Homeolog duplicated gene pair\n",
    "\n",
    "<div align=\"center\">\n",
    " <img src=\"https://raw.githubusercontent.com/masaomi/EEE338_2025/master/png/review2.png\" width=\"700px\">\n",
    "    </div>\n",
    "\n",
    "*Homolog, ortholog, paralog, homoeolog*"
   ]
  },
  {
   "cell_type": "markdown",
   "metadata": {
    "slideshow": {
     "slide_type": "subslide"
    }
   },
   "source": [
    "# Homeolog specific expression\n",
    "\n",
    "<div align=\"center\">\n",
    " <img src=\"https://raw.githubusercontent.com/masaomi/EEE338_2025/master/png/review3.png\" width=\"700px\">\n",
    "    </div>\n"
   ]
  },
  {
   "cell_type": "markdown",
   "metadata": {
    "slideshow": {
     "slide_type": "slide"
    }
   },
   "source": [
    "# Wild-type *A. kamchatica* resequencing\n",
    "\n",
    "<div align=\"center\">\n",
    " <img src=\"https://raw.githubusercontent.com/masaomi/EEE338_2025/master/png/reseq_kam.png\" width=\"500px\">\n",
    "</div>\n",
    "\n",
    "**25 accessions**\n"
   ]
  },
  {
   "cell_type": "markdown",
   "metadata": {
    "slideshow": {
     "slide_type": "slide"
    }
   },
   "source": [
    "# Hydroponic chamber experiment\n",
    "\n",
    "<div align=\"center\">\n",
    " <img src=\"https://raw.githubusercontent.com/masaomi/EEE338_2025/master/png/review13.png\" width=\"700px\">\n",
    "    </div>"
   ]
  },
  {
   "cell_type": "markdown",
   "metadata": {
    "slideshow": {
     "slide_type": "slide"
    }
   },
   "source": [
    "# Zinc concentration\n",
    "\n",
    "<div align=\"center\">\n",
    " <img src=\"https://raw.githubusercontent.com/masaomi/EEE338_2025/master/png/review14.png\" width=\"800px\">\n",
    "    </div>\n"
   ]
  },
  {
   "cell_type": "markdown",
   "metadata": {
    "slideshow": {
     "slide_type": "slide"
    }
   },
   "source": [
    "# Zinc transport in *A. halleri*\n",
    "\n",
    "<div align=\"center\">\n",
    " <img src=\"https://raw.githubusercontent.com/masaomi/EEE338_2025/master/png/review16.png\" width=\"800px\">\n",
    "    </div>"
   ]
  },
  {
   "cell_type": "markdown",
   "metadata": {
    "slideshow": {
     "slide_type": "slide"
    }
   },
   "source": [
    "# Working hypothesis\n",
    "\n",
    "Heavy metal related genes (homeologs) are expressed higher in *A. halleri* subgenome than in *A. lyrata* subgenome in root&leaf\n",
    "\n"
   ]
  },
  {
   "cell_type": "markdown",
   "metadata": {
    "slideshow": {
     "slide_type": "fragment"
    }
   },
   "source": [
    "$\\longrightarrow$ Test it by RNAseq"
   ]
  },
  {
   "cell_type": "markdown",
   "metadata": {
    "slideshow": {
     "slide_type": "slide"
    }
   },
   "source": [
    "# Differential homeolog expression analysis pipeline (EAGLE-RC)\n",
    "\n",
    "<div align=\"center\">\n",
    "  <img src=\"https://raw.githubusercontent.com/masaomi/EEE338_2025/master/png/review5.png\" width=\"700px\">\n",
    "    </div>\n",
    "EAGLE-RC: https://github.com/tony-kuo/eagle"
   ]
  }
 ],
 "metadata": {
  "celltoolbar": "Slideshow",
  "kernelspec": {
   "display_name": "Python 3 (ipykernel)",
   "language": "python",
   "name": "python3"
  },
  "language_info": {
   "codemirror_mode": {
    "name": "ipython",
    "version": 3
   },
   "file_extension": ".py",
   "mimetype": "text/x-python",
   "name": "python",
   "nbconvert_exporter": "python",
   "pygments_lexer": "ipython3",
   "version": "3.10.10"
  },
  "rise": {
   "chalkboard": {
    "color": [
     "rgb(250, 150, 150)",
     "rgb(250, 150, 150)"
    ]
   },
   "enable_chalkboard": true,
   "header": "<h3>EEE338 2025</h3>",
   "progress": true,
   "scroll": true,
   "slideNumber": "c/t",
   "theme": "serif",
   "transition": "convex"
  }
 },
 "nbformat": 4,
 "nbformat_minor": 4
}

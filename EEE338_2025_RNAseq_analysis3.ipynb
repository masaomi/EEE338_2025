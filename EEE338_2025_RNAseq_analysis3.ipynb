{
 "cells": [
  {
   "cell_type": "markdown",
   "metadata": {
    "slideshow": {
     "slide_type": "slide"
    }
   },
   "source": [
    "# EEE338 NGS Bioinformatics, RNAseq analysis part2\n",
    "\n",
    "* 24 Sep. 2025\n",
    "* Masaomi Hatakeyama\n",
    "    - https://github.com/masaomi/EEE338_2025\n"
   ]
  },
  {
   "cell_type": "markdown",
   "metadata": {
    "slideshow": {
     "slide_type": "slide"
    }
   },
   "source": [
    "# Plan today\n",
    "\n",
    "9:00-12:00\n",
    "* Differential expression analysis\n",
    "* Gene ontology analysis\n",
    "\n",
    "Actual (unpublished) data analysis 13:00-17:00\n",
    "\n"
   ]
  },
  {
   "cell_type": "markdown",
   "metadata": {
    "slideshow": {
     "slide_type": "slide"
    }
   },
   "source": [
    "# RNA-seq workflow\n",
    "\n",
    "Differential expression analysis\n",
    "\n",
    "1. Sequencing\n",
    "2. Quality control\n",
    "3. Mapping / Alignment\n",
    "4. Estimate expression level\n",
    "    * Plotting\n",
    "    * Clustering\n",
    "    * **Differential expression**\n"
   ]
  },
  {
   "cell_type": "markdown",
   "metadata": {
    "slideshow": {
     "slide_type": "slide"
    }
   },
   "source": [
    "# Differential expression\n",
    "\n",
    "How to detect **D**ifferential **E**xpressed **G**enes DEGs\n",
    "\n",
    "* CuffDiff, StringTie <span class=\"small\">Cole Trapnell, et al., Nat Protoc., 2012</span>\n",
    "* Ballgown <span class=\"small\">Pertea, M., et al. Nat Protoc 11, 1650–1667, 2016</span>\n",
    "* R packages\n",
    "  * edgeR <span class=\"small\">Robinson et al., Bioinformatics, 2010</span>\n",
    "  * DESeq2 <span class=\"small\">Love MI, Huber W, Anders S, Genome Biology, 15, 550, 2014</span>\n",
    "  \n",
    "...etc.\n"
   ]
  },
  {
   "cell_type": "markdown",
   "metadata": {
    "slideshow": {
     "slide_type": "slide"
    }
   },
   "source": [
    "# Fold-change ratio\n",
    "\n",
    "Microarray era...\n",
    "* Fold-change=Ratio\n",
    "* LogFC Fold-Change, LogRatio\n",
    "Sometimes\n",
    "* The fold change of X is used to detect DEGs\n",
    "\n",
    "But\n",
    "\n",
    "$\\rightarrow$ Many false positive errors"
   ]
  },
  {
   "cell_type": "markdown",
   "metadata": {
    "slideshow": {
     "slide_type": "slide"
    }
   },
   "source": [
    "# Hypothesis testing\n",
    "\n",
    "<div align=\"center\">\n",
    "  <img src=\"https://raw.githubusercontent.com/masaomi/EEE338_2025/master/png/hypothesis_testing1.png\" width=\"800px\">\n",
    "</div>"
   ]
  },
  {
   "cell_type": "markdown",
   "metadata": {
    "slideshow": {
     "slide_type": "slide"
    }
   },
   "source": [
    "# Hypothesis testing\n",
    "\n",
    "<div align=\"center\">\n",
    "  <img src=\"https://raw.githubusercontent.com/masaomi/EEE338_2025/master/png/hypothesis_testing2.png\" width=\"800px\">\n",
    "    </div>"
   ]
  },
  {
   "cell_type": "markdown",
   "metadata": {
    "slideshow": {
     "slide_type": "slide"
    }
   },
   "source": [
    "# Hypothesis testing\n",
    "\n",
    "<div align=\"center\">\n",
    "  <img src=\"https://raw.githubusercontent.com/masaomi/EEE338_2025/master/png/hypothesis_testing3.png\" width=\"800px\">\n",
    "</div>"
   ]
  },
  {
   "cell_type": "markdown",
   "metadata": {
    "slideshow": {
     "slide_type": "slide"
    }
   },
   "source": [
    "# Hypothesis testing\n",
    "\n",
    "<div align=\"center\">\n",
    "  <img src=\"https://raw.githubusercontent.com/masaomi/EEE338_2025/master/png/hypothesis_testing4.png\" width=\"800px\">\n",
    "</div>"
   ]
  },
  {
   "cell_type": "markdown",
   "metadata": {
    "slideshow": {
     "slide_type": "slide"
    }
   },
   "source": [
    "# Hypothesis testing\n",
    "\n",
    "<div align=\"center\">\n",
    "  <img src=\"https://raw.githubusercontent.com/masaomi/EEE338_2025/master/png/hypothesis_testing5.png\" width=\"800px\">\n",
    "    </div>"
   ]
  },
  {
   "cell_type": "markdown",
   "metadata": {
    "slideshow": {
     "slide_type": "slide"
    }
   },
   "source": [
    "# Testing for differential gene expression\n",
    "\n",
    "\n",
    "* Biological replicates are crucial\n",
    "    * no replicates, no statistics, no p-value\n",
    "* The test is done as many times as there are genes\n",
    "* One needs to adjust the p-values for multiple hypothesis testing"
   ]
  },
  {
   "cell_type": "markdown",
   "metadata": {
    "slideshow": {
     "slide_type": "slide"
    }
   },
   "source": [
    "## Statistical test DEGs detection\n",
    "\n",
    "* Simply: Fisher's exact test\n",
    "* Estimate *Mean* and *Variance*<br>\n",
    "  $\\rightarrow$ GLM fit - negative binomial distribution\n",
    "* Likelihood-ratio test of two models and calculate p-value\n",
    "\n",
    "<div class=\"small\">\n",
    "    <ul>\n",
    "        <li>Robinson et al., Biostatistics, 2008</li>\n",
    "        <li>Anders and Huber, Genome Biol., 2010</li>\n",
    "    </ul>\n",
    "    </div>\n"
   ]
  },
  {
   "cell_type": "markdown",
   "metadata": {
    "slideshow": {
     "slide_type": "slide"
    }
   },
   "source": [
    "# <font color=\"red\">Achtung!</font> Review statistical test\n",
    "\n",
    "Keywords:\n",
    "* Null hypothesis, alternative hypothesis\n",
    "* Significant level, p-value\n",
    "* Multi test problem\n",
    "* False positive rate, False discovery rate\n",
    "* Type I error, Type II error\n",
    "\n",
    "etc..."
   ]
  },
  {
   "cell_type": "markdown",
   "metadata": {
    "slideshow": {
     "slide_type": "slide"
    }
   },
   "source": [
    "# Neyman-Pearson School Statistical Test\n",
    "\n",
    "<img src=\"https://raw.githubusercontent.com/masaomi/EEE338_2025/master/png/neyman_pearson.png\" width=\"250px\" style=\"float: right; margin-right:100px; position:absolute; right:10px;\">\n",
    "\n",
    "- Frequentism\n",
    "- Null hypothesis vs. alternative hypothesis\n",
    "\n",
    "   - Logic: if we reject the null hypothesis, we <b>could support</b> the alternative hypothesis, but we do not <b>prove</b> it\n",
    "   - p-value: the probability of observing data as extreme as, or more extreme than, the actual observed data, given that the null hypothesis is true\n",
    "\n",
    "\n",
    "\n",
    "\n"
   ]
  },
  {
   "cell_type": "markdown",
   "metadata": {
    "slideshow": {
     "slide_type": "notes"
    }
   },
   "source": [
    "We should not use **accept** the alternative hypothesis\n",
    "\n",
    "\n",
    "\n"
   ]
  },
  {
   "cell_type": "markdown",
   "metadata": {
    "slideshow": {
     "slide_type": "slide"
    }
   },
   "source": [
    "# Achtung!!\n",
    "\n",
    "- The p-value is \n",
    "    - **NOT** the probability that the null hypothesis is true, \n",
    "    - BUT the probability of observing data as extreme as, or more extreme than, the actual observed data, **assuming the null hypothesis is true**\n",
    "\n"
   ]
  },
  {
   "cell_type": "markdown",
   "metadata": {
    "slideshow": {
     "slide_type": "slide"
    }
   },
   "source": [
    "# Neyman-Pearson school statistical test\n",
    "\n",
    "\n",
    "- Obtaining a p-value less than 0.05 provides evidence to reject the null hypothesis at the 5% significance level, but it does not mean we **must** reject it\n",
    "  \n",
    "- Rejecting the null hypothesis suggests strong evidence in favor of the alternative hypothesis, but **it doesn’t definitively mean the alternative hypothesis is true**\n",
    "\n",
    "- The test provides evidence against the null hypothesis but does not mean the alternative hypothesis is true, nor does it mean we can fully accept the alternative hypothesis \n",
    "\n",
    "- **Hypothesis testing only indicates evidence, not a conclusive acceptance of any hypothesis**\n"
   ]
  },
  {
   "cell_type": "markdown",
   "metadata": {
    "slideshow": {
     "slide_type": "slide"
    }
   },
   "source": [
    "# Neyman-Pearson school statistical test\n",
    "\n",
    "* Even if p-value is very low, \n",
    "    * it **DOES NOT** mean that the alternative hypothesis is necessarily true\n",
    "* Even if p-value is very high, \n",
    "    * it **DOES NOT** mean that the null hypothesis is necessarily true\n",
    "\n"
   ]
  },
  {
   "cell_type": "markdown",
   "metadata": {
    "slideshow": {
     "slide_type": "slide"
    }
   },
   "source": [
    "## Neyman-Pearson school statistical test\n",
    "\n",
    "What happens if the null hypothesis cannot be rejected?\n",
    "\n",
    "* It **DOES NOT** mean that the null hypothesis is necessarily true\n",
    "* In statistical testing, we never claim that\n",
    "  1. the null hypothesis is true or\n",
    "  2. the alternative hypothesis is true\n",
    "* We can only decide to **reject** or **not reject** the null hypothesis\n"
   ]
  },
  {
   "cell_type": "markdown",
   "metadata": {
    "slideshow": {
     "slide_type": "slide"
    }
   },
   "source": [
    "## Neyman-Pearson school statistical test\n",
    "\n",
    "* When you select genes with a p-value below 0.05\n",
    "\n",
    "you are choosing genes\n",
    "\n",
    "* that show evidence of differential expression at a significance level where the false positive rate is 5%, under the assumption that the null hypothesis is true (= the genes are not differentially expressed).\n",
    "\n",
    "\n"
   ]
  },
  {
   "cell_type": "markdown",
   "metadata": {
    "slideshow": {
     "slide_type": "fragment"
    }
   },
   "source": [
    "*but normally practically we say, they are differentially expressed genes...*\n",
    "\n"
   ]
  },
  {
   "cell_type": "markdown",
   "metadata": {
    "slideshow": {
     "slide_type": "fragment"
    }
   },
   "source": [
    "$\\rightarrow$ What is the FPR (False Positive Rate)?"
   ]
  },
  {
   "cell_type": "markdown",
   "metadata": {
    "slideshow": {
     "slide_type": "slide"
    }
   },
   "source": [
    "# Statistical hypothesis test\n",
    "\n",
    "<div align=\"center\">\n",
    "  <img src=\"https://raw.githubusercontent.com/masaomi/EEE338_2025/master/png/multi_test_table.png\" width=\"900px\">\n",
    "</div>\n",
    "\n",
    "* V: False positive, Type I error\n",
    "* S: True positive\n",
    "* T: False negative, Type II error\n",
    "* U: True negative\n"
   ]
  },
  {
   "cell_type": "markdown",
   "metadata": {
    "slideshow": {
     "slide_type": "slide"
    }
   },
   "source": [
    "# FPR, FDR\n",
    "\n",
    "<div align=\"center\">\n",
    "  <img src=\"https://raw.githubusercontent.com/masaomi/EEE338_2025/master/png/multi_test_table.png\" width=\"900px\">\n",
    "</div>\n",
    "\n",
    "* FPR = FP/(FP+TN) = V/(V+U)\n",
    "* FDR = FP/(FP+TP) = V/(V+S)\n",
    "\n",
    "FPR: False Positive Rate\n",
    "\n",
    "FDR: False Discovery Rate\n"
   ]
  },
  {
   "cell_type": "markdown",
   "metadata": {
    "slideshow": {
     "slide_type": "slide"
    }
   },
   "source": [
    "# Hypotheses Example\n",
    "\n",
    "* Null hypothesis<br>\n",
    "$H_{0}$: the gene is not differentially expressed\n",
    "* Alternative hypothsis<br>\n",
    "$H_{1}$: the gene is differentially expressed\n",
    "\n"
   ]
  },
  {
   "cell_type": "markdown",
   "metadata": {
    "slideshow": {
     "slide_type": "slide"
    }
   },
   "source": [
    "# FPR, FDR Example\n",
    "\n",
    "<div align=\"center\">\n",
    "  <img src=\"https://raw.githubusercontent.com/masaomi/EEE338_2025/master/png/test_example0.png\" width=\"900px\">\n",
    "    </div>"
   ]
  },
  {
   "cell_type": "markdown",
   "metadata": {
    "slideshow": {
     "slide_type": "slide"
    }
   },
   "source": [
    "# FPR, FDR Example\n",
    "\n",
    "<div align=\"center\">\n",
    "  <img src=\"https://raw.githubusercontent.com/masaomi/EEE338_2025/master/png/test_example1.png\" width=\"900px\">\n",
    "</div>"
   ]
  },
  {
   "cell_type": "markdown",
   "metadata": {
    "slideshow": {
     "slide_type": "slide"
    }
   },
   "source": [
    "# p-value & FDR \n",
    "\n",
    "Example\n",
    "\n",
    "* p-value < 0.05\n",
    "* FDR < 0.05\n",
    "\n",
    "*What is the difference?*\n"
   ]
  },
  {
   "cell_type": "markdown",
   "metadata": {
    "slideshow": {
     "slide_type": "slide"
    }
   },
   "source": [
    "# p-value & FDR\n",
    "\n",
    "* p-value < 0.05\n",
    "\n",
    "     5% of the time, we may incorrectly reject the null hypothesis (i.e., incorrectly detect non-DEGs as DEGs)<br>\n",
    "     e.g. In a dataset of 10,000 non-DEGs, this could lead to approximately 500 non-DEGs being falsely identified as DEGs. <br>\n",
    "\n",
    "\n",
    "\n"
   ]
  },
  {
   "cell_type": "markdown",
   "metadata": {
    "slideshow": {
     "slide_type": "slide"
    }
   },
   "source": [
    "# p-value & FDR \n",
    "\n",
    "* FDR < 0.05\n",
    "    \n",
    "    Among the genes detected as differentially expressed (DEGs), we expect that approximately 5% are false positives (non-DEGs). <br>\n",
    "    e.g., if 500 DEGs are detected, an FDR < 0.05 would suggest that around 25 of these could be non-DEGs (false positives).<br>\n"
   ]
  },
  {
   "cell_type": "markdown",
   "metadata": {
    "slideshow": {
     "slide_type": "slide"
    }
   },
   "source": [
    "# Multiple testing problem\n",
    "\n",
    "Wikipedia\n",
    "\n",
    "    In statistics, the multiple comparisons, multiplicity\n",
    "    or multiple testing problem occurs when one considers\n",
    "    a set of statistical inferences simultaneously.\n",
    "\n",
    "    Errors in inference, including confidence intervals\n",
    "    that fail to include their corresponding population\n",
    "    parameters or hypothesis tests that incorrectly reject\n",
    "    the null hypothesis are more likely to occur when\n",
    "    one considers the set as a whole."
   ]
  },
  {
   "cell_type": "markdown",
   "metadata": {
    "slideshow": {
     "slide_type": "slide"
    }
   },
   "source": [
    "# Multiple testing problem\n",
    "\n",
    "* If you do a statistical test 3 times with p-value < 0.05\n",
    "* the probability of rejecting the null hypothesis becomes at least once\n",
    "\n",
    " $1-(1-0.05) \\times (1-0.05) \\times (1-0.05) \\approx 0.143$\n"
   ]
  },
  {
   "cell_type": "markdown",
   "metadata": {
    "slideshow": {
     "slide_type": "slide"
    }
   },
   "source": [
    "# Familywise error rate Example\n",
    "\n",
    "<div align=\"center\">\n",
    "  <img src=\"https://raw.githubusercontent.com/masaomi/EEE338_2025/master/png/familywise_error_rate_example.png\" width=\"500px\">\n",
    "    </div>"
   ]
  },
  {
   "cell_type": "markdown",
   "metadata": {
    "slideshow": {
     "slide_type": "slide"
    }
   },
   "source": [
    "# Example 100,000 times T-test\n",
    "\n",
    "* 2 sets of 20 normal random numbers\n",
    "* T-test 10,000 times\n",
    "* p-value distribution"
   ]
  },
  {
   "cell_type": "markdown",
   "metadata": {
    "slideshow": {
     "slide_type": "slide"
    }
   },
   "source": [
    "# Example 100,000 times T-test\n",
    "\n",
    "R\n",
    "\n",
    "    p_value <- c()\n",
    "        for(i in 1:100000){\n",
    "            x1 <- rnorm(20)\n",
    "            x2 <- rnorm(20)\n",
    "            pv <- t.test(x1, x2)$p.value\n",
    "            p_value <- c(p_value, pv)\n",
    "        }\n",
    "    hist(p_value)"
   ]
  },
  {
   "cell_type": "markdown",
   "metadata": {
    "slideshow": {
     "slide_type": "slide"
    }
   },
   "source": [
    "## Example 100,000 times T-test\n",
    "\n",
    "<div align=\"center\">\n",
    "  <img src=\"https://raw.githubusercontent.com/masaomi/EEE338_2025/master/png/t-test-test.png\" width=\"400px\">\n",
    "</div>\n",
    "\n",
    "How many false positives if you reject the null hypotheses with significance level 5%?"
   ]
  },
  {
   "cell_type": "markdown",
   "metadata": {
    "slideshow": {
     "slide_type": "slide"
    }
   },
   "source": [
    "## Example 100,000 times T-test\n",
    "\n",
    "<div align=\"center\">\n",
    "  <img src=\"https://raw.githubusercontent.com/masaomi/EEE338_2025/master/png/t-test-test.png\" width=\"400px\">\n",
    "</div>\n",
    "\n",
    "FPR = 5%, #False Positives = 100,000 * 0.05 = 5,000, in case that you reject null hypotheses with significance level 5%\n"
   ]
  },
  {
   "cell_type": "markdown",
   "metadata": {
    "slideshow": {
     "slide_type": "fragment"
    }
   },
   "source": [
    "e.g. 5,000 genes might be detected for differentially expressed genes in 100,000 genes, even if they were not differentially expressed\n"
   ]
  },
  {
   "cell_type": "markdown",
   "metadata": {
    "slideshow": {
     "slide_type": "slide"
    }
   },
   "source": [
    "# Correction p-value\n",
    "\n",
    "Correction familywise error rate\n",
    "* Bonferroni method: \n",
    "    * simple, very conservative\n",
    "\n",
    "Calculate FDR from p-values\n",
    "* Benjamini-Hochberg method\n",
    "    - simple, popular\n",
    "\n",
    "<div class=\"small\">Benjamini Y. Hochberg, et al., 1995</div>"
   ]
  },
  {
   "cell_type": "markdown",
   "metadata": {
    "slideshow": {
     "slide_type": "slide"
    }
   },
   "source": [
    "# Correction p-value\n",
    "\n",
    "Correction familywise error rate\n",
    "* Bonferroni method<br>\n",
    "  simple, very conservative<br>\n",
    "  significant level α / the number of tests N<br>\n",
    "\n",
    "R\n",
    "\n",
    "    q.values <- p.adjust(p.values, method = \"bonferroni\")\n",
    "\n"
   ]
  },
  {
   "cell_type": "markdown",
   "metadata": {
    "slideshow": {
     "slide_type": "slide"
    }
   },
   "source": [
    "# Correction p-value\n",
    "\n",
    "Calculate FDR from p-values\n",
    "* Benjamini-Hochberg method<br>simple, popular\n",
    "\n",
    "R\n",
    "\n",
    "    q.values <- p.adjust(p.values, method = \"BH\")\n",
    "\n",
    "<div class=\"small\">Benjamini Y. Hochberg, et al., 1995</div>"
   ]
  },
  {
   "cell_type": "markdown",
   "metadata": {
    "slideshow": {
     "slide_type": "slide"
    }
   },
   "source": [
    "#  Benjamini-Hochberg method\n",
    "\n",
    "Algorithm\n",
    "\n",
    "1.Sort p-values: $p_1 \\leq  p_{2} \\leq p_{3} \\leq \\dots \\leq p_{N}$\n",
    "\n",
    "2.Calculate: $q_m = p_m N / m, m=1,\\dots,N$\n",
    "\n",
    "3.If $q_i > q_j$ then $q_i=q_j, i,j=1,…,N, i<j$\n",
    "\n",
    "<div class=\"small\">Y. Benjamini, Y. Hochberg, 1995</div>\n"
   ]
  },
  {
   "cell_type": "markdown",
   "metadata": {
    "slideshow": {
     "slide_type": "slide"
    }
   },
   "source": [
    "##  Benjamini-Hochberg method 100,000 times T-test\n",
    "\n",
    "<div align=\"center\">\n",
    "  <img src=\"https://raw.githubusercontent.com/masaomi/EEE338_2025/master/png/BH.png\" width=\"350px\">\n",
    "</div>\n",
    "\n",
    "Mostly ~ 1.0, null hypotheses cannot be rejected\n"
   ]
  },
  {
   "cell_type": "markdown",
   "metadata": {
    "slideshow": {
     "slide_type": "slide"
    }
   },
   "source": [
    "# Mini Summary\n",
    "\n",
    "* Hypothesis testing<br>\n",
    "  $\\longrightarrow$ based on Neyman-Pearson approach\n",
    "* False positive rate and false discovery rate\n",
    "    * FPR: rate of false positives under null hypothesis\n",
    "    * FDR: rate of false positives in detected all positives\n",
    "* Multiple testing problem and p-value correction\n",
    "    * Bonferroni correction (*too severe*)\n",
    "    * Benjamini-Hochberg method (*normally used for RNAseq*)"
   ]
  },
  {
   "cell_type": "markdown",
   "metadata": {
    "slideshow": {
     "slide_type": "slide"
    }
   },
   "source": [
    "# Statistical test DEGs detection\n",
    "\n",
    "* Simply: Fisher's exact test\n",
    "* Estimate *Mean* and *Variance*<br>$\\rightarrow$ GLM fit - negative binomial distribution\n",
    "* Likelihood-ratio test of two models and calculate p-value\n",
    "\n",
    "<br><br>\n",
    "<div class=\"small\">\n",
    "    <ul>\n",
    "        <li>Robinson et al., Biostatistics, 2008</li>\n",
    "        <li>Anders and Huber, Genome Biol., 2010</li>\n",
    "    </ul>\n",
    "    </div>\n"
   ]
  },
  {
   "cell_type": "markdown",
   "metadata": {
    "slideshow": {
     "slide_type": "slide"
    }
   },
   "source": [
    "# T-test\n",
    "\n",
    "Problems\n",
    "* Not enough samples\n",
    "    * usually 3-4 biological replicates\n",
    "* Not nomral distribution\n"
   ]
  },
  {
   "cell_type": "markdown",
   "metadata": {
    "slideshow": {
     "slide_type": "slide"
    }
   },
   "source": [
    "# Fisher' exact test\n",
    "<div align=\"center\">\n",
    "  <img src=\"https://raw.githubusercontent.com/masaomi/EEE338_2025/master/png/fisher_test.png\" width=\"700px\">\n",
    "</div>\n",
    "\n",
    "Problem\n",
    "* There is no consideration of biological replicates variation\n"
   ]
  },
  {
   "cell_type": "markdown",
   "metadata": {
    "slideshow": {
     "slide_type": "slide"
    }
   },
   "source": [
    "# Likelihood ratio test LRT\n",
    "\n",
    "<div align=\"center\">\n",
    "  <img src=\"https://raw.githubusercontent.com/masaomi/EEE338_2025/master/png/lrt_eq.png\" width=\"700px\">\n",
    "</div>\n",
    "\n",
    "* Null model: no DEGs\n",
    "* Alternative model: DEGs\n",
    "* Deviance follows χ^2 distribution and calculate p-value\n"
   ]
  },
  {
   "cell_type": "markdown",
   "metadata": {
    "slideshow": {
     "slide_type": "slide"
    }
   },
   "source": [
    "# What is likelihood?\n",
    "\n",
    "    A likelihood function (often simply the likelihood)\n",
    "    is a function of the parameters of a statistical model\n",
    "    given data.(Wikipedia)\n",
    "\n",
    "* Mathematically equal to *joint probability*\n",
    "* How much probable the model fits to the data with the parameter(s)"
   ]
  },
  {
   "cell_type": "markdown",
   "metadata": {
    "slideshow": {
     "slide_type": "slide"
    }
   },
   "source": [
    "# Example Likelihood\n",
    "\n",
    "<div align=\"center\">\n",
    "  <img src=\"https://raw.githubusercontent.com/masaomi/EEE338_2025/master/png/samples.png\" width=\"700px\">\n",
    "</div>\n",
    "\n",
    "Supposing that\n",
    "* You got 10 samples from a normal distributed population<br>\n",
    "$x=(x_1, x_2, \\dots, x_{10})$\n",
    "* You do not know the mean and variance of the distribution\n",
    "\n",
    "<span class=\"small\">figures come from: https://www.kobiwa.jp/2019/12/03/post-777/ (Japanese)</span>"
   ]
  },
  {
   "cell_type": "markdown",
   "metadata": {
    "slideshow": {
     "slide_type": "slide"
    }
   },
   "source": [
    "# Example likelihood\n",
    "\n",
    "Normal distribution probability density function\n",
    "\n",
    "  <img src=\"https://raw.githubusercontent.com/masaomi/EEE338_2025/master/png/norm_eq.png\" width=\"600px\">\n",
    "\n",
    "Likelihood function\n",
    "\n",
    "  <img src=\"https://raw.githubusercontent.com/masaomi/EEE338_2025/master/png/likelihood_eq.png\" width=\"600px\">"
   ]
  },
  {
   "cell_type": "markdown",
   "metadata": {
    "slideshow": {
     "slide_type": "slide"
    }
   },
   "source": [
    "# Example likelihood\n",
    "\n",
    "$\\mu=0.0, \\sigma=1.0$\n",
    "<div align=\"center\">\n",
    "  <img src=\"https://raw.githubusercontent.com/masaomi/EEE338_2025/master/png/likelihood_ex1.png\" width=\"500px\">\n",
    "</div>\n",
    "\n",
    "Likelihood = -568.93...\n",
    "\n",
    "<span class=\"small\">figures come from: https://www.kobiwa.jp/2019/12/03/post-777/ (Japanese)</span>"
   ]
  },
  {
   "cell_type": "markdown",
   "metadata": {
    "slideshow": {
     "slide_type": "slide"
    }
   },
   "source": [
    "# Example likelihood\n",
    "\n",
    "$\\mu=5.0, \\sigma=4.0$\n",
    "<div align=\"center\">\n",
    "  <img src=\"https://raw.githubusercontent.com/masaomi/EEE338_2025/master/png/likelihood_ex2.png\" width=\"500px\">\n",
    "</div>\n",
    "\n",
    "Likelihood = -20.04... got bigger\n",
    "\n",
    "<span class=\"small\">figures come from: https://www.kobiwa.jp/2019/12/03/post-777/ (Japanese)</span>"
   ]
  },
  {
   "cell_type": "markdown",
   "metadata": {
    "slideshow": {
     "slide_type": "slide"
    }
   },
   "source": [
    "# Example likelihood\n",
    "\n",
    "<div align=\"center\">\n",
    "  <img src=\"https://raw.githubusercontent.com/masaomi/EEE338_2025/master/png/likelihood_anime.gif\" width=\"600px\">\n",
    "</div>\n",
    "\n",
    "\n",
    "<span class=\"small\">figures come from: https://www.kobiwa.jp/2019/12/03/post-777/ (Japanese)</span>"
   ]
  },
  {
   "cell_type": "markdown",
   "metadata": {
    "slideshow": {
     "slide_type": "slide"
    }
   },
   "source": [
    "# Example likelihood\n",
    "\n",
    "<div align=\"center\">\n",
    "  <img src=\"https://raw.githubusercontent.com/masaomi/EEE338_2025/master/png/likelihood_anime2.gif\" width=\"600px\">\n",
    "</div>\n",
    "\n",
    "<span class=\"small\">figures come from: https://www.kobiwa.jp/2019/12/03/post-777/ (Japanese)</span>"
   ]
  },
  {
   "cell_type": "markdown",
   "metadata": {
    "slideshow": {
     "slide_type": "slide"
    }
   },
   "source": [
    "# Mini summary\n",
    "\n",
    "* Joint probability\n",
    "  * assumption: given a distribution function\n",
    "  * input: samples\n",
    "  * output: probability\n",
    "\n",
    "* Likelihood\n",
    "  * assumption: given samples\n",
    "  * input: parameters of distribution function\n",
    "  * output: likelihood"
   ]
  },
  {
   "cell_type": "markdown",
   "metadata": {
    "slideshow": {
     "slide_type": "slide"
    }
   },
   "source": [
    "# Likelihood ratio test\n",
    "\n",
    "* 2 models distribution function\n",
    "  1. estimate parameters using gene$_i$  expressions in both A and B group\n",
    "  2. estimate parameters using gene$_i$  expressions in A and B group, independently\n",
    "* calculate\n",
    "  1. likelihood ratio\n",
    "  2. Deviance\n",
    "  3. p-value, FDR\n"
   ]
  },
  {
   "cell_type": "markdown",
   "metadata": {
    "slideshow": {
     "slide_type": "slide"
    }
   },
   "source": [
    "## Likelihood ratio test / Example cheat coin toss\n",
    "\n",
    "Imagine a cheating coin toss...\n",
    "<div align=\"center\">\n",
    "  <img src=\"https://raw.githubusercontent.com/masaomi/EEE338_2025/master/png/cheat_coin.png\" width=\"800px\">\n",
    "</div>"
   ]
  },
  {
   "cell_type": "markdown",
   "metadata": {
    "slideshow": {
     "slide_type": "slide"
    }
   },
   "source": [
    "## Likelihood ratio test / Example cheat coin toss\n",
    "\n",
    "Coin toss 10 times each\n",
    "* Person A: heads 5, tails 5\n",
    "* Person B: heads 9, tails 1\n"
   ]
  },
  {
   "cell_type": "markdown",
   "metadata": {
    "slideshow": {
     "slide_type": "fragment"
    }
   },
   "source": [
    "$\\longrightarrow$ *Are they using certainly the same coin?*\n"
   ]
  },
  {
   "cell_type": "markdown",
   "metadata": {
    "slideshow": {
     "slide_type": "slide"
    }
   },
   "source": [
    "## Likelihood ratio test / Example cheat coin toss\n",
    "\n",
    "Parameter (of distribution function): the probability of heads H\n",
    "\n",
    "null model:\n",
    "\n",
    "$L(H0) = 0.5^5 × 0.5^5 × 0.5^9 × 0.5^1  = 9.54 × 10^{-7}$\n",
    "\n",
    "alternative model: \n",
    "\n",
    "$L(H1) = 0.5^5 × 0.5^5 × 0.9^9 × 0.1^1 = 3.78 × 10^{-5}$\n"
   ]
  },
  {
   "cell_type": "markdown",
   "metadata": {
    "slideshow": {
     "slide_type": "slide"
    }
   },
   "source": [
    "# Likelihood ratio test LRT\n",
    "\n",
    "<div align=\"center\">\n",
    "  <img src=\"https://raw.githubusercontent.com/masaomi/EEE338_2025/master/png/lrt_eq.png\" width=\"700px\">\n",
    "</div>\n",
    "\n",
    "* Null model: no DEGs\n",
    "* Alternative model: DEGs\n",
    "* Deviance follows χ^2 distribution and calculate p-value\n"
   ]
  },
  {
   "cell_type": "markdown",
   "metadata": {
    "slideshow": {
     "slide_type": "slide"
    }
   },
   "source": [
    "## Likelihood ratio test Example cheat coin toss\n",
    "\n",
    "Likelihood\n",
    "\n",
    "$L(H0) = 0.5^{20} = 9.53 × 10^{-7}$\n",
    "$L(H1) = 0.5^5 × 0.5^5 × 0.9^9 × 0.1^1 = 3.78 × 10^{-5}$\n",
    "\n",
    "Likelihood ratio\n",
    "* $\\lambda = L(H0)/L(H1) =  9.54 × 10^{-7} / 3.78 \\times 10^{-5} = 0.025$\n",
    "* $D = -2log(\\lambda) = -2log(0.025)$\n",
    "$= 7.36$\n",
    "\n",
    "*D* (Deviance) becomes low if the two coins are same..."
   ]
  },
  {
   "cell_type": "markdown",
   "metadata": {
    "slideshow": {
     "slide_type": "fragment"
    }
   },
   "source": [
    "p-value\n",
    "```R\n",
    "> pchisq(7.36, df=1, lower.tail=FALSE)\n",
    "[1] 0.00667\n",
    "```"
   ]
  },
  {
   "cell_type": "markdown",
   "metadata": {
    "slideshow": {
     "slide_type": "slide"
    }
   },
   "source": [
    "# For more details\n",
    "<div style=\"font-size: 23px;\">\n",
    "\n",
    "Theoretical\n",
    "* Huei-Chung Huang, et. al., Differential Expression Analysis for RNA-Seq: An Overview of Statistical Methods and Computational Software, Cancer Inform. 2015\n",
    "\n",
    "Practical\n",
    "* Simon Anders, et. al., Count-based differential expression analysis of RNA sequencing data using R and Bioconductor,Nature protocols, 2013\n",
    "\n",
    "Benchmarking\n",
    "* Juliana Costa-Silva, et. al., RNA-Seq differential expression analysis: An extended review and a software tool, PLOS One, 2017\n",
    "</div>\n"
   ]
  },
  {
   "cell_type": "markdown",
   "metadata": {
    "slideshow": {
     "slide_type": "slide"
    }
   },
   "source": [
    "# RNA-seq workflow Differential expression analysis\n",
    "\n",
    "1. Sequencing\n",
    "2. Quality control\n",
    "3. Mapping / Alignment\n",
    "4. Estimate expression level\n",
    "    * Clustering\n",
    "    * Differential expression\n",
    "    * **Functional analysis**"
   ]
  },
  {
   "cell_type": "markdown",
   "metadata": {
    "slideshow": {
     "slide_type": "slide"
    }
   },
   "source": [
    "# Functional analysis\n",
    "\n",
    "\n",
    "**Goal:** Understand the biological meaning of differentially expressed genes (DEGs)\n",
    "\n",
    "* **Gene Ontology analysis**\n",
    "\n",
    "  * Biological process, Molecular function, Cellular component\n",
    "\n",
    "* **Pathway analysis**\n",
    "\n",
    "  * KEGG, Reactome, MSigDB, etc.\n"
   ]
  },
  {
   "cell_type": "markdown",
   "metadata": {
    "slideshow": {
     "slide_type": "slide"
    }
   },
   "source": [
    "# Gene Ontology\n",
    "\n",
    "Structured controlled vocabularies **ontologies** that describe gene products in terms of their associated\n",
    "1. **Biological Processes (BP)**\n",
    "2. **Cellular Components (CC)**\n",
    "3. **Molecular Functions (MF)**\n",
    "\n",
    "<span class=\"small\">http://www.geneontology.org/GO.doc.shtml</span>"
   ]
  },
  {
   "cell_type": "markdown",
   "metadata": {
    "slideshow": {
     "slide_type": "slide"
    }
   },
   "source": [
    "# Ontology structure\n",
    "\n",
    "<div align=\"center\">\n",
    "    <img src=\"https://raw.githubusercontent.com/masaomi/EEE338_2025/master/png/go_tree.gif\" width=\"700px\">\n",
    "            </div>\n",
    "            \n",
    "* Acyclic Graph Tree Structure\n",
    "* Node: GO term"
   ]
  },
  {
   "cell_type": "markdown",
   "metadata": {
    "slideshow": {
     "slide_type": "slide"
    }
   },
   "source": [
    "# GO term, GO ID\n",
    "\n",
    "Example\n",
    "* ATCG00080.1 (photosystem II reaction center protein I)\n",
    "  * GO:0015979 : photosynthesis (BP)\n",
    "  * GO:0016020 : membrane (CC)\n"
   ]
  },
  {
   "cell_type": "markdown",
   "metadata": {
    "slideshow": {
     "slide_type": "slide"
    }
   },
   "source": [
    "# Exercise\n",
    "\n",
    "Example\n",
    "* ATCG00080.1 (photosystem II reaction center protein I)\n",
    "\n",
    "Search\n",
    "* http://www.arabidopsis.org/\n"
   ]
  },
  {
   "cell_type": "markdown",
   "metadata": {
    "slideshow": {
     "slide_type": "slide"
    }
   },
   "source": [
    "# GO Relations\n",
    "\n",
    "<div align=\"center\">\n",
    "  <img src=\"https://raw.githubusercontent.com/masaomi/EEE338_2025/master/png/go_tree.gif\" width=\"600px\">\n",
    "</div>\n",
    "\n",
    "1. **is a**\n",
    "2. **part of**\n",
    "3. **regulates**"
   ]
  },
  {
   "cell_type": "markdown",
   "metadata": {
    "slideshow": {
     "slide_type": "slide"
    }
   },
   "source": [
    "# 'is a', 'part of'\n",
    "<div align=\"center\">\n",
    "  <img src=\"https://raw.githubusercontent.com/masaomi/EEE338_2025/master/png/go_relation1.gif\" width=\"500px\">\n",
    "</div>\n",
    "\n",
    "mitochondrion has two parents: it is an organelle and it is part of the cytoplasm\n",
    "\n",
    "organelle has two children: mitochondrion is an organelle, and organelle membrane is part of organelle"
   ]
  },
  {
   "cell_type": "markdown",
   "metadata": {
    "slideshow": {
     "slide_type": "slide"
    }
   },
   "source": [
    "# 'regulates'\n",
    "\n",
    "<div align=\"center\">\n",
    "  <img src=\"https://raw.githubusercontent.com/masaomi/EEE338_2025/master/png/go_regulate.gif\" width=\"800px\">\n",
    "</div>\n",
    "\n",
    "regulation of mitotic spindle organization regulates\n",
    "    mitotic spindle organization and mitotic spindle \n",
    "    organization is part of the mitotic cell cycle\n",
    "\n",
    "therefore regulation of mitotic spindle organization \n",
    "    regulates the mitotic cell cycle\n"
   ]
  },
  {
   "cell_type": "markdown",
   "metadata": {
    "slideshow": {
     "slide_type": "slide"
    }
   },
   "source": [
    "# Practice\n",
    "\n",
    "<div align=\"center\">\n",
    "  <img src=\"https://raw.githubusercontent.com/masaomi/EEE338_2025/master/png/relation_practice.png\" width=\"700px\">\n",
    "</div>\n"
   ]
  },
  {
   "cell_type": "markdown",
   "metadata": {
    "slideshow": {
     "slide_type": "slide"
    }
   },
   "source": [
    "# Functional analysis/Enrichment analysis\n",
    "\n",
    "<div class=\"row\">\n",
    "  <div class=\"column\" align=\"center\">\n",
    "  <img src=\"https://raw.githubusercontent.com/masaomi/EEE338_2025/master/png/gsea.png\" width=\"500px\">\n",
    "  </div>\n",
    "  <div class=\"column\" align=\"left\">\n",
    "      <br>\n",
    "    Gene set enrichment analysis (GSEA) is a method to \n",
    "    identify classes of genes or proteins that are over-\n",
    "    represented in a large set of genes or proteins \n",
    "    (Wikipedia)\n",
    "    </div>\n",
    "</div>\n",
    "\n",
    "\n",
    "\n",
    "<span class=\"small\">Aravind Subramanian, et al., PNAS, 102 (43), 15545--15550, 2005.</span>\n",
    "\n"
   ]
  },
  {
   "cell_type": "markdown",
   "metadata": {
    "slideshow": {
     "slide_type": "slide"
    }
   },
   "source": [
    "# ORA vs GSEA: Two approaches to functional analysis\n",
    "\n",
    "**Over-Representation Analysis (ORA)**\n",
    "- Uses a **selected gene list** (e.g., DEGs with FDR < 0.05)\n",
    "- Tests if functional categories are **enriched** in the selected genes\n",
    "- Simple and intuitive\n",
    "\n",
    "**Gene Set Enrichment Analysis (GSEA)**  \n",
    "- Uses **all genes** ranked by expression change\n",
    "- Tests if functional categories are **enriched at extremes** of the ranking\n",
    "- More sensitive to small but coordinated changes\n"
   ]
  },
  {
   "cell_type": "markdown",
   "metadata": {
    "slideshow": {
     "slide_type": "slide"
    }
   },
   "source": [
    "## ORA vs GSEA: key differences\n",
    "\n",
    "**ORA (Over-Representation Analysis)**\n",
    "- Input: DEG list (e.g., genes with FDR < 0.05)\n",
    "- Question: \"Is this GO term significantly enriched in DEGs?\"\n",
    "- Statistical method: Fisher's exact test\n",
    "\n",
    "**GSEA (Gene Set Enrichment Analysis)**  \n",
    "- Input: All genes ranked by logFC\n",
    "- Question: \"Are genes in this GO term enriched at the top/bottom of the ranking?\"\n",
    "- Statistical method: Kolmogorov-Smirnov-like test\n"
   ]
  },
  {
   "cell_type": "markdown",
   "metadata": {
    "slideshow": {
     "slide_type": "subslide"
    }
   },
   "source": [
    "### When to use which?\n",
    "- Clear DEG list available → ORA\n",
    "- Want to capture subtle changes → GSEA\n",
    "- In practice, often use both methods"
   ]
  },
  {
   "cell_type": "markdown",
   "metadata": {
    "slideshow": {
     "slide_type": "notes"
    }
   },
   "source": [
    "# Functional analysis/Enrichment analysis\n",
    "\n",
    "1. ORA: Over Representation Analysis\n",
    "2. FCS: Functional Class Scoring (e.g. GSEA)\n",
    "\n",
    "<span class=\"small\">Ref:<br> \n",
    "    https://hbctraining.github.io/DGE_workshop_salmon_online/lessons/10_FA_over-representation_analysis.html<br>\n",
    "    https://hbctraining.github.io/DGE_workshop_salmon_online/lessons/11_FA_functional_class_scoring.html\n",
    "</span>\n"
   ]
  },
  {
   "cell_type": "markdown",
   "metadata": {
    "slideshow": {
     "slide_type": "slide"
    }
   },
   "source": [
    "# ORA: Step-by-Step Process\n",
    "\n",
    "1. **Select DEGs** (e.g., FDR < 0.05)\n",
    "2. **For each GO term**, create contingency table:\n",
    "   |             | DEGs | non-DEGs |\n",
    "   |-------------|------|----------|\n",
    "   | In GO term  | a    | b        |\n",
    "   | Not in term | c    | d        |\n",
    "3. **Fisher's exact test**: Is 'a' larger than expected by chance?\n",
    "4. **Multiple testing correction** (Benjamini-Hochberg)"
   ]
  },
  {
   "cell_type": "markdown",
   "metadata": {
    "slideshow": {
     "slide_type": "slide"
    }
   },
   "source": [
    "# Example, Fisher\\'s exact test\n",
    "\n",
    "|             | DEGs        | non DEGs |\n",
    "| ----------- | ----------- | -------- |\n",
    "| GOID:0001   | 10          | 100      | \n",
    "| Other than GOID:0001 | 100       | 1000 |\n",
    "\n",
    "```R\n",
    "> fisher.test(matrix(c(10,100,100,1000), nrow=2))\n",
    "\n",
    "    Fisher's Exact Test for Count Data\n",
    "\n",
    "data:  matrix(c(10, 100, 100, 1000), nrow = 2)\n",
    "p-value = 1\n",
    "```\n",
    "\n",
    "   "
   ]
  },
  {
   "cell_type": "markdown",
   "metadata": {
    "slideshow": {
     "slide_type": "slide"
    }
   },
   "source": [
    "# Example, Fisher\\'s exact test\n",
    "\n",
    "|             | DEGs        | non DEGs |\n",
    "| ----------- | ----------- | -------- |\n",
    "| GOID:0001   | 25          | 100      | \n",
    "| Other than GOID:0001 | 100       | 1000 |\n",
    "\n",
    "```R\n",
    "> fisher.test(matrix(c(25,100,100,1000), nrow=2))\n",
    "\n",
    "\tFisher's Exact Test for Count Data\n",
    "\n",
    "data:  matrix(c(25, 100, 100, 1000), nrow = 2)\n",
    "p-value = 0.0004687\n",
    "```\n",
    "\n",
    "   "
   ]
  },
  {
   "cell_type": "markdown",
   "metadata": {
    "slideshow": {
     "slide_type": "slide"
    }
   },
   "source": [
    "# GSEA: The ranking approach\n",
    "\n",
    "1. **Rank all genes** by expression change (e.g., logFC, t-statistic)\n",
    "2. **For each gene set**, calculate enrichment score (ES)\n",
    "3. **ES**: How much are gene set members enriched at extremes?\n",
    "4. **Permutation test**: Generate null distribution of ES\n",
    "5. **Calculate p-value and FDR**\n",
    "\n",
    "**No arbitrary cutoff needed!**\n"
   ]
  },
  {
   "cell_type": "markdown",
   "metadata": {
    "slideshow": {
     "slide_type": "slide"
    }
   },
   "source": [
    "# GSEA: Enrichment score calculation\n",
    "\n",
    "The **Walking Statistic**:\n",
    "- Start from top of ranked gene list\n",
    "- For each gene:\n",
    "  - If **in gene set**: ES goes **up**\n",
    "  - If **not in set**: ES goes **down**\n",
    "- **Maximum deviation from zero** = Enrichment Score\n",
    "\n",
    "**Positive ES**: Gene set enriched at **top** (up-regulated)  \n",
    "**Negative ES**: Gene set enriched at **bottom** (down-regulated)\n"
   ]
  },
  {
   "cell_type": "markdown",
   "metadata": {
    "slideshow": {
     "slide_type": "slide"
    }
   },
   "source": [
    "# GSEA: Simple example - setup\n",
    "\n",
    "**Setting**: 7 genes ranked by logFC, 3 genes in \"metabolism\" gene set\n",
    "\n",
    "### Walking Score Calculation Rules\n",
    "- Hit a **metabolism gene**: **+1**\n",
    "- Hit an **other gene**: **-1**  \n",
    "- **Cumulative** calculation\n",
    "- **Enrichment Score (ES)** = maximum deviation from zero\n",
    "\n"
   ]
  },
  {
   "cell_type": "markdown",
   "metadata": {
    "slideshow": {
     "slide_type": "slide"
    }
   },
   "source": [
    "## Case 1 - Metabolism genes enriched at top\n",
    "\n",
    "```\n",
    "Rank  Gene   logFC  Gene set      Score  Walking score\n",
    "1     GeneA   2.5   Metabolism     +1      +1\n",
    "2     GeneB   2.0   Metabolism     +1      +2  \n",
    "3     GeneC   1.8   Metabolism     +1      +3   ← ES = +3\n",
    "4     GeneD   1.2   Other          -1      +2\n",
    "5     GeneE   0.8   Other          -1      +1\n",
    "6     GeneF   0.3   Other          -1       0\n",
    "7     GeneG  -0.2   Other          -1      -1\n",
    "```\n",
    "\n",
    "**ES = +3** (positive → metabolism genes up-regulated)\n",
    "\n"
   ]
  },
  {
   "cell_type": "markdown",
   "metadata": {
    "slideshow": {
     "slide_type": "slide"
    }
   },
   "source": [
    "## Case 2 - Metabolism genes randomly distributed\n",
    "\n",
    "```\n",
    "Rank  Gene   logFC  Gene set      Score  Walking score  \n",
    "1     GeneA   2.5   Metabolism     +1      +1   ← ES = +1\n",
    "2     GeneB   2.0   Other          -1       0\n",
    "3     GeneC   1.8   Other          -1      -1\n",
    "4     GeneD   1.2   Metabolism     +1       0\n",
    "5     GeneE   0.8   Other          -1      -1\n",
    "6     GeneF   0.3   Metabolism     +1       0\n",
    "7     GeneG  -0.2   Other          -1      -1\n",
    "```\n",
    "\n",
    "**ES = +1** (small positive → weak enrichment)\n",
    "\n",
    "**Interpretation**: Case 1 shows clear up-regulation of metabolism genes, while Case 2 shows random distribution."
   ]
  },
  {
   "cell_type": "markdown",
   "metadata": {
    "slideshow": {
     "slide_type": "slide"
    }
   },
   "source": [
    "## GSEA p-value calculation - step 1\n",
    "\n",
    "**Calculate actual ES from real data**\n",
    "\n",
    "```\n",
    "Real data:\n",
    "Rank  Gene   logFC  Gene set      Walking score\n",
    "1     GeneA   2.5   Metabolism     +1\n",
    "2     GeneB   2.0   Metabolism     +2  \n",
    "3     GeneC   1.8   Metabolism     +3   ← Actual ES = +3\n",
    "4     GeneD   1.2   Other          +2\n",
    "5     GeneE   0.8   Other          +1\n",
    "6     GeneF   0.3   Other           0\n",
    "7     GeneG  -0.2   Other          -1\n",
    "```\n",
    "\n",
    "**Actual ES = +3**\n",
    "\n"
   ]
  },
  {
   "cell_type": "markdown",
   "metadata": {
    "slideshow": {
     "slide_type": "slide"
    }
   },
   "source": [
    "## GSEA p-value calculation - step 2\n",
    "\n",
    "**Generate null distribution by permutation**\n",
    "\n",
    "**Permutation**: Randomly shuffle gene set labels (keep ranking unchanged)\n",
    "\n",
    "```\n",
    "Permutation 1:\n",
    "Rank  Gene   logFC  Shuffled set   Walking score\n",
    "1     GeneA   2.5   Other          -1\n",
    "2     GeneB   2.0   Metabolism     +0  ← ES = +0\n",
    "3     GeneC   1.8   Other          -1\n",
    "...\n",
    "\n",
    "Permutation 2:\n",
    "1     GeneA   2.5   Metabolism     +1  ← ES = +1\n",
    "2     GeneB   2.0   Other           0\n",
    "3     GeneC   1.8   Metabolism     +1\n",
    "...\n",
    "```\n",
    "\n",
    "**Repeat 1000+ times → Get 1000+ null ES values**"
   ]
  },
  {
   "cell_type": "markdown",
   "metadata": {
    "slideshow": {
     "slide_type": "slide"
    }
   },
   "source": [
    "## GSEA p-value calculation - step 3\n",
    "\n",
    "**Compare actual ES with null distribution**\n",
    "\n",
    "```\n",
    "Null ES distribution from permutations:\n",
    "     Frequency\n",
    "        |     /\\\n",
    "        |    /  \\\n",
    "        |   /    \\\n",
    "        |__/______\\______ ES value\n",
    "        -2  -1  0  1  2  3\n",
    "                      ↑\n",
    "                 Actual ES = +3\n",
    "```\n",
    "\n",
    "**p-value = (Number of permutation ES ≥ +3) / (Total permutations)**\n",
    "\n",
    "**Example**: If only 5 out of 1000 permutations gave ES ≥ +3\n",
    "→ **p-value = 5/1000 = 0.005**\n",
    "\n",
    "**Interpretation**: Only 0.5% chance to get ES ≥ +3 by random chance\n",
    "→ **Statistically significant enrichment**\n"
   ]
  },
  {
   "cell_type": "markdown",
   "metadata": {
    "slideshow": {
     "slide_type": "slide"
    }
   },
   "source": [
    "# Mini Summary\n",
    "\n",
    "**Statistical Methods for DEG Detection**\n",
    "* Likelihood ratio test provides robust statistical framework for identifying differentially expressed genes\n",
    "\n",
    "**Gene Ontology Structure**\n",
    "* Three main categories: Biological Process (BP), Cellular Component (CC), Molecular Function (MF)\n",
    "* Hierarchical relationships: *is-a*, *part-of*, *regulates*\n",
    "\n",
    "**Functional Analysis**\n",
    "* Enrichment analysis reveals biological meaning of DEGs\n",
    "* Identifies over-represented GO categories and pathways\n",
    "* Two main approaches: ORA (selected gene lists) and GSEA (ranked gene lists)"
   ]
  },
  {
   "cell_type": "markdown",
   "metadata": {
    "slideshow": {
     "slide_type": "slide"
    }
   },
   "source": [
    "# Web tools (mostly ORA)\n",
    "\n",
    "* GOTermFinder http://go.princeton.edu/cgi-bin/GOTermFinder\n",
    "* PANTHER http://www.pantherdb.org\n",
    "* GOrilla http://cbl-gorilla.cs.technion.ac.il/\n",
    "* ReviGO http://revigo.irb.hr/\n"
   ]
  },
  {
   "cell_type": "markdown",
   "metadata": {
    "slideshow": {
     "slide_type": "slide"
    }
   },
   "source": [
    "# R packages Bioconductor\n",
    "\n",
    "* TopGo https://bioconductor.org/packages/release/bioc/html/topGO.html\n",
    "* goseq http://bioconductor.org/packages/release/bioc/html/goseq.html\n",
    "* GOstats https://www.bioconductor.org/packages/release/bioc/html/GOstats.html\n",
    "* clusterProfiler https://bioconductor.org/packages/release/bioc/html/clusterProfiler.html"
   ]
  }
 ],
 "metadata": {
  "celltoolbar": "Slideshow",
  "kernelspec": {
   "display_name": "Python 3 (ipykernel)",
   "language": "python",
   "name": "python3"
  },
  "language_info": {
   "codemirror_mode": {
    "name": "ipython",
    "version": 3
   },
   "file_extension": ".py",
   "mimetype": "text/x-python",
   "name": "python",
   "nbconvert_exporter": "python",
   "pygments_lexer": "ipython3",
   "version": "3.10.10"
  },
  "rise": {
   "chalkboard": {
    "color": [
     "rgb(250, 150, 150)",
     "rgb(250, 150, 150)"
    ]
   },
   "enable_chalkboard": true,
   "header": "<h3>EEE338 2025</h3>",
   "progress": true,
   "scroll": true,
   "slideNumber": "c/t",
   "theme": "serif",
   "transition": "zoom"
  }
 },
 "nbformat": 4,
 "nbformat_minor": 4
}

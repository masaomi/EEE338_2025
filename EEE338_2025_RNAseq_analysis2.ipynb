{
 "cells": [
  {
   "cell_type": "markdown",
   "metadata": {
    "slideshow": {
     "slide_type": "slide"
    }
   },
   "source": [
    "# EEE338 NGS Bioinformatics, RNAseq analysis part2\n",
    "\n",
    "* 23 Sep. 2025\n",
    "* Masaomi Hatakeyama\n",
    "    - https://github.com/masaomi/EEE338_2025\n"
   ]
  },
  {
   "cell_type": "markdown",
   "metadata": {
    "slideshow": {
     "slide_type": "slide"
    }
   },
   "source": [
    "# Plan Today\n",
    "\n",
    "RNA-seq analysis workflow 13:00-14:00\n",
    "* Gene expression estimation\n",
    "* Normalization, scaling\n",
    "\n"
   ]
  },
  {
   "cell_type": "markdown",
   "metadata": {
    "slideshow": {
     "slide_type": "subslide"
    }
   },
   "source": [
    "# RNA-seq workflow\n",
    "\n",
    "1. Sequencing\n",
    "2. Quality control\n",
    "3. Mapping / Alignment\n",
    "4. **Estimate expression level**\n",
    "    * Differential expression\n",
    "    * Gene ontology analysis\n",
    "    * etc."
   ]
  },
  {
   "cell_type": "markdown",
   "metadata": {
    "slideshow": {
     "slide_type": "slide"
    }
   },
   "source": [
    "# After alignment\n",
    "\n",
    "<div align=\"center\">\n",
    "  <img src=\"https://raw.githubusercontent.com/masaomi/EEE338_2025/master/png/mapping2.png\" width=\"600px\">\n",
    "</div>\n",
    "\n",
    "How do we estimate the expression level?\n",
    "\n",
    "1. Count reads\n",
    "2. Normalization\n",
    "\n"
   ]
  },
  {
   "cell_type": "markdown",
   "metadata": {
    "slideshow": {
     "slide_type": "slide"
    }
   },
   "source": [
    "# Coverage\n",
    "\n",
    "The ratio of total number of sequenced/mapped bases against the reference gene/genome\n",
    "\n",
    "<div align=\"center\">\n",
    "  <img src=\"https://raw.githubusercontent.com/masaomi/EEE338_2025/master/png/coverage_depth.png\" width=\"700px\">\n",
    "</div>\n",
    "\n",
    "http://www.danielecook.com/calculate-depth-coverage-bam-file/"
   ]
  },
  {
   "cell_type": "markdown",
   "metadata": {
    "slideshow": {
     "slide_type": "slide"
    }
   },
   "source": [
    "# Coverage\n",
    "\n",
    "High coverage increases the reliability of sample\n",
    "\n",
    "<div align=\"center\">\n",
    "<img src=\"https://raw.githubusercontent.com/masaomi/EEE338_2025/master/png/high_low_coverage.png\" width=\"800px\">\n",
    "    </div>"
   ]
  },
  {
   "cell_type": "markdown",
   "metadata": {
    "slideshow": {
     "slide_type": "slide"
    }
   },
   "source": [
    "# Exercise1\n",
    "\n",
    "* How many reads are necessary to get 30x coverage depth for 0.1 Gb Genome?\n",
    "* Read length = 100 base\n"
   ]
  },
  {
   "cell_type": "markdown",
   "metadata": {
    "slideshow": {
     "slide_type": "slide"
    }
   },
   "source": [
    "# Exercise2\n",
    "\n",
    "* How much would it cost to sequence a 2 Gb genome at 60x coverage? \n",
    "* Let's say the cost is 1,000 CHF per lane, \n",
    "with an average sequencing output of 60 Gb per lane"
   ]
  },
  {
   "cell_type": "markdown",
   "metadata": {
    "slideshow": {
     "slide_type": "slide"
    }
   },
   "source": [
    "# Counting htseq-count options\n",
    "\n",
    "<div align=\"center\">\n",
    "<img src=\"https://raw.githubusercontent.com/masaomi/EEE338_2025/master/png/count_modes.png\" width=\"500px\">\n",
    "    </div>\n",
    "\n",
    "https://htseq.readthedocs.io/en/master/htseqcount.html"
   ]
  },
  {
   "cell_type": "markdown",
   "metadata": {
    "slideshow": {
     "slide_type": "slide"
    }
   },
   "source": [
    "# Multiple alignment\n",
    "\n",
    "<div align=\"center\">\n",
    "  <img src=\"https://raw.githubusercontent.com/masaomi/EEE338_2025/master/png/multi_hit.png\" width=\"800px\">\n",
    "    </div>\n"
   ]
  },
  {
   "cell_type": "markdown",
   "metadata": {
    "slideshow": {
     "slide_type": "subslide"
    }
   },
   "source": [
    "# Multiple alignment\n",
    "\n",
    "<div align=\"center\">\n",
    "  <img src=\"https://raw.githubusercontent.com/masaomi/EEE338_2025/master/png/multi_hit_ex.png\" width=\"800px\">\n",
    "    </div>\n",
    "\n",
    "* Reads are sometimes mapped to multiple locations\n",
    "* Keep them or remove them?\n"
   ]
  },
  {
   "cell_type": "markdown",
   "metadata": {
    "slideshow": {
     "slide_type": "slide"
    }
   },
   "source": [
    "# Normalization RPKM\n",
    "\n",
    "Expression level is calculated from\n",
    "1. Mapped read count coverage depth\n",
    "2. Total number of reads\n",
    "3. Gene length\n"
   ]
  },
  {
   "cell_type": "markdown",
   "metadata": {
    "slideshow": {
     "slide_type": "subslide"
    }
   },
   "source": [
    "# Normalization\n",
    "\n",
    "<div align=\"center\">\n",
    " <img src=\"https://raw.githubusercontent.com/masaomi/EEE338_2025/master/png/normalization1.png\" width=\"650px\">\n",
    "    </div>\n",
    "\n",
    "* Which sample is higher in expression level?\n",
    "\n"
   ]
  },
  {
   "cell_type": "markdown",
   "metadata": {
    "slideshow": {
     "slide_type": "subslide"
    }
   },
   "source": [
    "# Normalization\n",
    "\n",
    "<div align=\"center\">\n",
    " <img src=\"https://raw.githubusercontent.com/masaomi/EEE338_2025/master/png/normalization1.png\" width=\"650px\">\n",
    "    </div>\n",
    "\n",
    "* Depends on **mapped reads** and **total reads**\n"
   ]
  },
  {
   "cell_type": "markdown",
   "metadata": {
    "slideshow": {
     "slide_type": "slide"
    }
   },
   "source": [
    "# Normalization\n",
    "\n",
    "<div align=\"center\">\n",
    " <img src=\"https://raw.githubusercontent.com/masaomi/EEE338_2025/master/png/normalization2.png\" width=\"700px\">\n",
    "    </div>\n",
    "\n",
    "* Which gene is the most expressed?"
   ]
  },
  {
   "cell_type": "markdown",
   "metadata": {
    "slideshow": {
     "slide_type": "slide"
    }
   },
   "source": [
    "# Normalization\n",
    "\n",
    "* RPKM: **R**eads **P**er **K**ilobase of exon per **M**illion mapped reads\n",
    "* FPKM: **F**ragments **P**er **K**ilobase of exon per **M**illion mapped fragments\n",
    "* TPM: **T**ranscripts **P**er **M**illion\n",
    "* TMM: **T**rimmed **M**ean of **M** values\n",
    "\n",
    "<div class=\"small\">\n",
    "    <ul>\n",
    "        <li>Mortazavi, Nat Methods., 5(7):621-8, 2008</li>\n",
    "        <li>Trapnell, Nat Biotechnol., 28(5):511-5, 2010</li>\n",
    "        <li>Wagner GP, Theory Biosci., 131(4):281-5, 2012</li>\n",
    "    </ul>\n",
    "    </div>\n"
   ]
  },
  {
   "cell_type": "markdown",
   "metadata": {
    "slideshow": {
     "slide_type": "slide"
    }
   },
   "source": [
    "# RPKM, TPM\n",
    "\n",
    "<div align=\"center\">\n",
    " <img src=\"https://raw.githubusercontent.com/masaomi/EEE338_2025/master/png/rpkm_tpm.png\" width=\"700px\">\n",
    "    </div>\n"
   ]
  },
  {
   "cell_type": "markdown",
   "metadata": {
    "slideshow": {
     "slide_type": "subslide"
    }
   },
   "source": [
    "# RPKM, TPM\n",
    "\n",
    "Example\n",
    "\n",
    "<div align=\"center\">\n",
    "    <img src=\"https://raw.githubusercontent.com/masaomi/EEE338_2025/master/png/rpkm_tpm1.png\" width=\"1000px\">\n",
    "    </div>"
   ]
  },
  {
   "cell_type": "markdown",
   "metadata": {
    "slideshow": {
     "slide_type": "subslide"
    }
   },
   "source": [
    "# RPKM, TPM\n",
    "\n",
    "Exercise\n",
    "\n",
    "<div align=\"center\">\n",
    " <img src=\"https://raw.githubusercontent.com/masaomi/EEE338_2025/master/png/rpkm_tpm2.png\" width=\"1000px\">\n",
    "    </div>\n"
   ]
  },
  {
   "cell_type": "markdown",
   "metadata": {
    "slideshow": {
     "slide_type": "slide"
    }
   },
   "source": [
    "# Key takeaways: Expression quantification\n",
    "\n",
    "## Normalization necessity\n",
    "* **Three factors affect read counts**: Gene length, sequencing depth, expression level\n",
    "* **Coverage depth**: Average number of reads per base position\n",
    "* **Raw counts are not comparable** between genes or samples\n"
   ]
  },
  {
   "cell_type": "markdown",
   "metadata": {
    "slideshow": {
     "slide_type": "subslide"
    }
   },
   "source": [
    "## RPKM vs TPM vs CPM\n",
    "* **RPKM**: Normalize by length first, then by total reads\n",
    "* **TPM**: Normalize by length first, then scale to 1 million (constant sum)\n",
    "* **CPM**: Normalize only by total reads\n",
    "* **Key difference**: TPM values sum to same total across samples → better for comparison between samples\n",
    "\n"
   ]
  },
  {
   "cell_type": "markdown",
   "metadata": {
    "slideshow": {
     "slide_type": "subslide"
    }
   },
   "source": [
    "## Practical Guidelines\n",
    "* **For visualization**: Use TPM (comparable across samples)\n",
    "* **For differential expression**: Use raw counts with DESeq2/edgeR (they handle normalization)\n",
    "* **For coverage analysis**: Use CPM or raw depth\n",
    "\n",
    "*Next: Applying these concepts to real data analysis*\n"
   ]
  },
  {
   "cell_type": "markdown",
   "metadata": {
    "slideshow": {
     "slide_type": "skip"
    }
   },
   "source": [
    "# Long-read RNA-seq: Brief Overview\n",
    "\n",
    "## Technologies\n",
    "* **Oxford Nanopore (ONT)**: Real-time sequencing, 1-100+ kb reads\n",
    "* **PacBio**: High accuracy, 10-50 kb reads\n",
    "\n",
    "## Key Tools\n",
    "* **minimap2**: Fast alignment for long reads (replaces STAR/HISAT2)\n",
    "* **FLAIR**: Full-length isoform analysis and reconstruction  \n",
    "* **StringTie2**: Transcript assembly and quantification\n"
   ]
  },
  {
   "cell_type": "markdown",
   "metadata": {
    "slideshow": {
     "slide_type": "skip"
    }
   },
   "source": [
    "## Advantages\n",
    "* ✅ **Full-length transcripts**: Direct isoform detection\n",
    "* ✅ **Novel splice variants**: Better discovery than short reads\n",
    "* ✅ **Complex regions**: Repetitive sequences, pseudogenes\n",
    "\n",
    "## Current Status\n",
    "⚠️ **Still developing**: Higher error rates, specialized analysis pipelines needed\n"
   ]
  },
  {
   "cell_type": "markdown",
   "metadata": {
    "slideshow": {
     "slide_type": "skip"
    }
   },
   "source": [
    "# Summary\n",
    "\n",
    "Estimation of expression level\n",
    "* Coverage depth: Average ammount of reads\n",
    "* Expression level based on read counting\n",
    "* Normalization is necessary: RPKM, TPM, CPM\n"
   ]
  },
  {
   "cell_type": "markdown",
   "metadata": {
    "slideshow": {
     "slide_type": "slide"
    }
   },
   "source": [
    "# RNA-seq workflow\n",
    "\n",
    "1. Sequencing\n",
    "2. Quality control\n",
    "3. Mapping / Alignment\n",
    "4. Estimate expression level\n"
   ]
  },
  {
   "cell_type": "markdown",
   "metadata": {
    "slideshow": {
     "slide_type": "fragment"
    }
   },
   "source": [
    "*What is next?*"
   ]
  },
  {
   "cell_type": "markdown",
   "metadata": {
    "slideshow": {
     "slide_type": "slide"
    }
   },
   "source": [
    "# After counting / a typical case\n",
    "\n",
    "1. Plotting count data Visualization\n",
    "2. Clustering, MDS plot Multivariate analysis\n",
    "3. Detecting differentically expressed genes DEGs\n",
    "\n",
    "etc..."
   ]
  },
  {
   "cell_type": "markdown",
   "metadata": {
    "slideshow": {
     "slide_type": "slide"
    }
   },
   "source": [
    "# RNA-seq workflow\n",
    "\n",
    "1. Sequencing\n",
    "2. Quality control\n",
    "3. Mapping / Alignment\n",
    "4. Estimate expression level\n",
    "    * **Plotting**\n",
    "    * Clustering\n",
    "    * Differential expression\n"
   ]
  },
  {
   "cell_type": "markdown",
   "metadata": {
    "slideshow": {
     "slide_type": "slide"
    }
   },
   "source": [
    "# Distribution Count data *A. halleri* RNAseq\n",
    "\n",
    "<div align=\"center\">\n",
    "  <img src=\"https://raw.githubusercontent.com/masaomi/EEE338_2025/master/png/ahal_sample1_dist_rank.png\" width=\"700px\">\n",
    "</div>\n",
    "\n",
    "* Majority: **low expressed genes**\n",
    "* Minority: **high expressed genes**\n",
    "\n"
   ]
  },
  {
   "cell_type": "markdown",
   "metadata": {
    "slideshow": {
     "slide_type": "slide"
    }
   },
   "source": [
    "# Distribution<br>Count data *A. halleri* RNAseq last year\n",
    "\n",
    "<div align=\"center\">\n",
    "  <img src=\"https://raw.githubusercontent.com/masaomi/EEE338_2025/master/png/ahal_sample1_dist_rank.png\" width=\"700px\">\n",
    "</div>\n",
    "\n",
    "$\\rightarrow$ **Power-law** Expression range is very large\n",
    "\n",
    "<div class=\"small\">Hiroki R. Ueda, PNAS, 2004, 101(11), 3765</div>\n"
   ]
  },
  {
   "cell_type": "markdown",
   "metadata": {
    "slideshow": {
     "slide_type": "slide"
    }
   },
   "source": [
    "# Gene Regulatory Network<br>Scale free network\n",
    "\n",
    "I guess ....\n",
    "<div class=\"row\">\n",
    "  <div class=\"column\" align=\"center\">\n",
    "  <img src=\"https://raw.githubusercontent.com/masaomi/EEE338_2025/master/png/gene_reg_net.png\" width=\"400px\">\n",
    "  </div>\n",
    "Gene regulatory networks are generally thought to be made up of a few highly connected nodes (hubs) and many poorly connected nodes. (Wikipedia)\n",
    "</div>\n",
    "\n",
    "\n",
    "\n",
    "<div class=\"small\">Decourty et al, PNAS 2008</div>\n"
   ]
  },
  {
   "cell_type": "markdown",
   "metadata": {
    "slideshow": {
     "slide_type": "slide"
    }
   },
   "source": [
    "# Distribution<br>Count data *A. halleri* RNAseq\n",
    "<div align=\"center\">\n",
    "  <img src=\"https://raw.githubusercontent.com/masaomi/EEE338_2025/master/png/ahal_poisson.png\" width=\"600px\">\n",
    "</div>\n",
    "\n",
    "* Poisson distribution?\n"
   ]
  },
  {
   "cell_type": "markdown",
   "metadata": {
    "slideshow": {
     "slide_type": "slide"
    }
   },
   "source": [
    "# Distribution<br>*A. halleri* FPKM mean - variance\n",
    "\n",
    "<div align=\"center\">\n",
    "  <img src=\"https://raw.githubusercontent.com/masaomi/EEE338_2025/master/png/ahal_pois_mean_var.png\" width=\"600px\">\n",
    "</div>\n",
    "\n",
    "* ~~Poisson distribution Mean = Vriance~~<br>\n",
    "$\\longrightarrow$ **Overdispersion** Variance > Mean"
   ]
  },
  {
   "cell_type": "markdown",
   "metadata": {
    "slideshow": {
     "slide_type": "slide"
    }
   },
   "source": [
    "# Distribution<br>*A. halleri* FPKM mean - variance\n",
    "\n",
    "<div align=\"center\">\n",
    "  <img src=\"https://raw.githubusercontent.com/masaomi/EEE338_2025/master/png/ahal_pois_mean_var.png\" width=\"400px\">\n",
    "</div>\n",
    "\n",
    "* ~~Poisson distribution Mean = Vriance~~\n",
    "* Negative binomial distribution<br>\n",
    "$\\sigma^2 = \\mu + \\phi \\mu^2 (\\phi > 0)$"
   ]
  },
  {
   "cell_type": "markdown",
   "metadata": {
    "slideshow": {
     "slide_type": "slide"
    }
   },
   "source": [
    "# Negative binomial distribution\n",
    "\n",
    "<div align=\"center\">\n",
    "  <img src=\"https://raw.githubusercontent.com/masaomi/EEE338_2025/master/png/Negbinomial.gif\" width=\"400px\">\n",
    "</div>\n",
    "\n",
    "$X \\sim \\rm{NB}(r,p), Pr(X=x) =  \\begin{pmatrix}\n",
    "  k + r - 1\\\\ \n",
    "  r - 1\n",
    "\\end{pmatrix}(1-p)^k p^r$\n",
    "\n",
    "where $r$ is the number of successes, $k$ is the number of failures, and $p$ is the probability of success.\n",
    "\n",
    "https://en.wikipedia.org/wiki/Negative_binomial_distribution"
   ]
  },
  {
   "cell_type": "markdown",
   "metadata": {
    "slideshow": {
     "slide_type": "slide"
    }
   },
   "source": [
    "<div class=\"question\">Questions?</div>"
   ]
  },
  {
   "cell_type": "markdown",
   "metadata": {
    "slideshow": {
     "slide_type": "slide"
    }
   },
   "source": [
    "# Visualization Expression data\n",
    "\n",
    "* Bar plot, Box plot\n",
    "* Scatter plot log - log\n",
    "* Volcano plot log(fold-change) - log(p-value)\n",
    "* M-A plot log(average) - log(ratio)"
   ]
  },
  {
   "cell_type": "markdown",
   "metadata": {
    "slideshow": {
     "slide_type": "slide"
    }
   },
   "source": [
    "# Box plot<br>Box-and-Whisker plot\n",
    "\n",
    "<div align=\"center\">\n",
    "  <img src=\"https://raw.githubusercontent.com/masaomi/EEE338_2025/master/png/boxplot.png\" width=\"600px\">\n",
    "</div>\n",
    "\n",
    "A basic plot 1\n"
   ]
  },
  {
   "cell_type": "markdown",
   "metadata": {
    "slideshow": {
     "slide_type": "slide"
    }
   },
   "source": [
    "# Bar plot\n",
    "\n",
    "<div align=\"center\">\n",
    "  <img src=\"https://raw.githubusercontent.com/masaomi/EEE338_2025/master/png/barplot.png\" width=\"600px\">\n",
    "</div>\n",
    "\n",
    "Error bar: standard deviation, standard error, or confidence interval\n",
    "* You can see/compare expression levels individually&visually"
   ]
  },
  {
   "cell_type": "markdown",
   "metadata": {
    "slideshow": {
     "slide_type": "slide"
    }
   },
   "source": [
    "## Scatter plot for many data points\n",
    "\n",
    "<div align=\"center\">\n",
    "  <img src=\"https://raw.githubusercontent.com/masaomi/EEE338_2025/master/png/scatter_plot_matrix.png\" width=\"500px\">\n",
    "</div>\n",
    "\n",
    "You can find\n",
    "* correlation between samples\n",
    "* differential expressed genes visually\n",
    "* outlier/strange samples\n"
   ]
  },
  {
   "cell_type": "markdown",
   "metadata": {
    "slideshow": {
     "slide_type": "slide"
    }
   },
   "source": [
    "# Scatter plot + Correlation matrix\n",
    "\n",
    "<div align=\"center\">\n",
    "  <img src=\"https://raw.githubusercontent.com/masaomi/EEE338_2025/master/png/scatter_correlation_matrix.png\" width=\"550px\">\n",
    "    </div>"
   ]
  },
  {
   "cell_type": "markdown",
   "metadata": {
    "slideshow": {
     "slide_type": "slide"
    }
   },
   "source": [
    "# Heatmap sample - sample\n",
    "\n",
    "<div align=\"center\">\n",
    "  <img src=\"https://raw.githubusercontent.com/masaomi/EEE338_2025/master/png/heatmap.png\" width=\"550px\">\n",
    "</div>\n",
    "\n",
    "We can see the correlation visually as a quality control, > 5 samples\n",
    "* You can see sample corrections visually\n",
    "* You can find outlier/strange samples between/within groups"
   ]
  },
  {
   "cell_type": "markdown",
   "metadata": {
    "slideshow": {
     "slide_type": "slide"
    }
   },
   "source": [
    "# Heatmap gene expression - sample\n",
    "\n",
    "<div align=\"center\">\n",
    "  <img src=\"https://raw.githubusercontent.com/masaomi/EEE338_2025/master/png/heatmap_sample_gene.png\" width=\"450px\">\n",
    "</div>"
   ]
  },
  {
   "cell_type": "markdown",
   "metadata": {
    "slideshow": {
     "slide_type": "slide"
    }
   },
   "source": [
    "## Volcano plot log(fold-change) - log(p-value)\n",
    "\n",
    "<div align=\"center\">\n",
    "  <img src=\"https://raw.githubusercontent.com/masaomi/EEE338_2025/master/png/volcano_plot.png\" width=\"300px\">\n",
    "</div>\n",
    "\n",
    "X-axis: Log fold change (ratio), Y-axis: -log(p-value)\n",
    "\n",
    "We can see differential expressed genes visually"
   ]
  },
  {
   "cell_type": "markdown",
   "metadata": {
    "slideshow": {
     "slide_type": "slide"
    }
   },
   "source": [
    "## M-A plot log(average) - log(ratio)\n",
    "\n",
    "<div align=\"center\">\n",
    "  <img src=\"https://raw.githubusercontent.com/masaomi/EEE338_2025/master/png/ma_plot.png\" width=\"300px\">\n",
    "</div>\n",
    "\n",
    "X-axis: Log mean, Y-axis: Log fold change (ratio)\n",
    "\n",
    "We can see both fold change and expression level at the same time\n"
   ]
  },
  {
   "cell_type": "markdown",
   "metadata": {
    "slideshow": {
     "slide_type": "slide"
    }
   },
   "source": [
    "# Hierarchical clustering\n",
    "\n",
    "<div align=\"center\">\n",
    " <img src=\"https://raw.githubusercontent.com/masaomi/EEE338_2025/master/png/clustering.png\" width=\"600px\">\n",
    "    </div>\n",
    "\n",
    "* You can see sample clusters visually\n",
    "* You can find outlier/strange samples between/within groups\n"
   ]
  },
  {
   "cell_type": "markdown",
   "metadata": {
    "slideshow": {
     "slide_type": "slide"
    }
   },
   "source": [
    "# PCA: Principal Component Analysis\n",
    "\n",
    "<div align=\"center\">\n",
    " <img src=\"https://raw.githubusercontent.com/masaomi/EEE338_2025/master/png/pca.png\" width=\"400px\">\n",
    "</div>\n",
    "\n",
    "* You can see sample clusters visually\n",
    "* You can find outlier/strange samples between/within groups"
   ]
  },
  {
   "cell_type": "markdown",
   "metadata": {
    "slideshow": {
     "slide_type": "slide"
    }
   },
   "source": [
    "# Heatmap + Clustering\n",
    "\n",
    "<div align=\"center\">\n",
    "    <img src=\"https://raw.githubusercontent.com/masaomi/EEE338_2025/master/png/heat_clustering.png\" width=\"350px\">\n",
    "</div>\n",
    "\n",
    "* You can see gene/sample clusters at the same time"
   ]
  },
  {
   "cell_type": "markdown",
   "metadata": {
    "slideshow": {
     "slide_type": "slide"
    }
   },
   "source": [
    "# Multivariate analysis\n",
    "\n",
    "* Clustering\n",
    "* Multi-dimensional scaling (e.g. PCA)\n",
    "\n",
    "They are used mostly for quality control after counting\n"
   ]
  },
  {
   "cell_type": "markdown",
   "metadata": {
    "slideshow": {
     "slide_type": "slide"
    }
   },
   "source": [
    "# Clustering\n",
    "\n",
    "<div align=\"center\">\n",
    "  <img src=\"https://raw.githubusercontent.com/masaomi/EEE338_2025/master/png/clustering_image.png\" width=\"800px\">\n",
    "</div>\n",
    "\n",
    "* Classify elements with their similarity\n"
   ]
  },
  {
   "cell_type": "markdown",
   "metadata": {
    "slideshow": {
     "slide_type": "slide"
    }
   },
   "source": [
    "# What is 'Similarity'?\n",
    "\n",
    "<div class=\"row\">\n",
    "  <div class=\"column\" align=\"center\">\n",
    "  <img src=\"https://raw.githubusercontent.com/masaomi/EEE338_2025/master/png/pattern.png\" width=\"400px\">\n",
    "  </div>\n",
    "  <div class=\"column\" align=\"left\">\n",
    "      - <b>Distance based</b>: <br>Euclidean distance, Manhattan distance<br>\n",
    "      - <b>Correlation based</b>: <br>Pearson correlation coefficient, cosine correlation cefficient<br>\n",
    "      - <b>Link based</b>: <br>The number of connected nodes, density, (graph theory)<br>\n",
    "</div>\n",
    "</div>\n",
    "\n",
    "\n",
    "\n"
   ]
  },
  {
   "cell_type": "markdown",
   "metadata": {
    "slideshow": {
     "slide_type": "slide"
    }
   },
   "source": [
    "# Which metric is better?\n",
    "\n",
    "* **Distance based**: Absolute amount of differential expressions\n",
    "* **Correlation based**: Correlation of differential expressions\n",
    "\n",
    "e.g.\n",
    "* Comparison in different conditions $\\rightarrow$ which??\n",
    "* Comparison in different time points $\\rightarrow$ which??\n"
   ]
  },
  {
   "cell_type": "markdown",
   "metadata": {
    "slideshow": {
     "slide_type": "slide"
    }
   },
   "source": [
    "# Clustering\n",
    "\n",
    "* Hierarchical Clustering\n",
    "  * **Divisive**: top down approach\n",
    "  * **Agglomerative**: bottom up approach\n",
    "* Non-hierarchical Clustering Partitioning-optimization\n",
    "  * **Hard clustering**: elements can belong to only one cluster\n",
    "  * **Soft clustering**: elements can belong to more than one cluster\n"
   ]
  },
  {
   "cell_type": "markdown",
   "metadata": {
    "slideshow": {
     "slide_type": "slide"
    }
   },
   "source": [
    "# Clustering R *hclust* function\n",
    "\n",
    "* **Hierarchical Clustering**\n",
    "  * Divisive: top down approach\n",
    "  * **Agglomerative**: bottom up approach\n",
    "* Non-hierarchical Clustering Partitioning-optimization\n",
    "  * Hard clustering: elements can belong to only one cluster\n",
    "  * Soft clustering: elements can belong to more than one cluster\n"
   ]
  },
  {
   "cell_type": "markdown",
   "metadata": {
    "slideshow": {
     "slide_type": "slide"
    }
   },
   "source": [
    "# Clustering R *kmeans* function\n",
    "\n",
    "* Hierarchical Clustering\n",
    "  * Divisive: top down approach\n",
    "  * Agglomerative: bottom up approach\n",
    "* **Non-hierarchical Clustering** Partitioning-optimization\n",
    "  * **Hard clustering**: elements can belong to only one cluster\n",
    "  * Soft clustering: elements can belong to more than one cluster"
   ]
  },
  {
   "cell_type": "markdown",
   "metadata": {
    "slideshow": {
     "slide_type": "slide"
    }
   },
   "source": [
    "# K-means clustering Non-herarchical clustering\n",
    "\n",
    "Algorithm\n",
    "1. Select K points randomly\n",
    "2. Assign clusters to the selected points\n",
    "3. Move the centroid in each cluster\n",
    "\n",
    "Repeat 2-3 until the centroids stop\n"
   ]
  },
  {
   "cell_type": "markdown",
   "metadata": {
    "slideshow": {
     "slide_type": "subslide"
    }
   },
   "source": [
    "# K-means clustering Non-herarchical clustering\n",
    "\n",
    "<div align=\"center\">\n",
    "  <img src=\"https://raw.githubusercontent.com/masaomi/EEE338_2025/master/png/kmeans.gif\" width=\"800px\">\n",
    "</div>\n",
    "\n"
   ]
  },
  {
   "cell_type": "markdown",
   "metadata": {
    "slideshow": {
     "slide_type": "slide"
    }
   },
   "source": [
    "# Hierarchical clustering\n",
    "\n",
    "1. Calculate pair-wise distance in all points\n",
    "2. Assign a cluster to smallest distance pair\n",
    "3. Select a representative point of the cluster\n",
    "\n",
    "Repeat 1-3 until the cluster becomes one\n"
   ]
  },
  {
   "cell_type": "markdown",
   "metadata": {
    "slideshow": {
     "slide_type": "slide"
    }
   },
   "source": [
    "# Hierarchical clustering\n",
    "\n",
    "<div align=\"center\">\n",
    "  <img src=\"https://raw.githubusercontent.com/masaomi/EEE338_2025/master/png/hierarch.gif\" width=\"800px\">\n",
    "</div>\n",
    "\n",
    "<span class=\"small\">Reference: https://dashee87.github.io/data%20science/general/Clustering-with-Scikit-with-GIFs</span>\n"
   ]
  },
  {
   "cell_type": "markdown",
   "metadata": {
    "slideshow": {
     "slide_type": "slide"
    }
   },
   "source": [
    "# Distance between clusters\n",
    "\n",
    "How to merge clusters\n",
    "\n",
    "* Group average method\n",
    "* Nearest neighbor, single linkage method\n",
    "* Furthest neighbor, complete linkage method\n",
    "* Ward’s minimum variance method\n"
   ]
  },
  {
   "cell_type": "markdown",
   "metadata": {
    "slideshow": {
     "slide_type": "slide"
    }
   },
   "source": [
    "\n",
    "\n",
    "# Group average\n",
    "\n",
    "<div align=\"center\">\n",
    "  <img src=\"https://raw.githubusercontent.com/masaomi/EEE338_2025/master/png/groupave.png\" width=\"600px\">\n",
    "</div>\n",
    "\n",
    "* A-C merging"
   ]
  },
  {
   "cell_type": "markdown",
   "metadata": {
    "slideshow": {
     "slide_type": "slide"
    }
   },
   "source": [
    "# Nearest neighor\n",
    "\n",
    "<div align=\"center\">\n",
    "  <img src=\"https://raw.githubusercontent.com/masaomi/EEE338_2025/master/png/nearest.png\" width=\"600px\">\n",
    "</div>\n",
    "\n",
    "* A-C merging\n"
   ]
  },
  {
   "cell_type": "markdown",
   "metadata": {
    "slideshow": {
     "slide_type": "slide"
    }
   },
   "source": [
    "# Furthest neihbor\n",
    "\n",
    "<div align=\"center\">\n",
    "  <img src=\"https://raw.githubusercontent.com/masaomi/EEE338_2025/master/png/furthest.png\" width=\"600px\">\n",
    "    </div>\n",
    "\n",
    "* B-C merging"
   ]
  },
  {
   "cell_type": "markdown",
   "metadata": {
    "slideshow": {
     "slide_type": "slide"
    }
   },
   "source": [
    "# Ward's method, minimum variance\n",
    "\n",
    "<div align=\"center\">\n",
    "  <img src=\"https://raw.githubusercontent.com/masaomi/EEE338_2025/master/png/ward_method.png\" width=\"600px\">\n",
    "</div>\n",
    "\n",
    "* Minimize Δ= L(P∪Q)－L(P)－L(Q)\n",
    "* L(X): variance between the centroid and elements of X"
   ]
  },
  {
   "cell_type": "markdown",
   "metadata": {
    "slideshow": {
     "slide_type": "slide"
    }
   },
   "source": [
    "# Example *A. halleri* RNA\n",
    "\n",
    "<div align=\"center\">\n",
    "  <img src=\"https://raw.githubusercontent.com/masaomi/EEE338_2025/master/png/ahal_sample_clustering.png\" width=\"500px\">\n",
    "</div>"
   ]
  },
  {
   "cell_type": "markdown",
   "metadata": {
    "slideshow": {
     "slide_type": "skip"
    }
   },
   "source": [
    "# Example Clustering + Heatmap\n",
    "\n",
    "<div align=\"center\">\n",
    "  <img src=\"https://raw.githubusercontent.com/masaomi/EEE338_2025/master/png/ahal-cluster-heatmap.png\" width=\"500px\">\n",
    "    </div>"
   ]
  },
  {
   "cell_type": "markdown",
   "metadata": {
    "slideshow": {
     "slide_type": "slide"
    }
   },
   "source": [
    "## Exercise: hierarchical clustering\n",
    "\n",
    "<div align=\"center\">\n",
    "    <img src=\"https://raw.githubusercontent.com/masaomi/EEE338_2025/master/png/cluster_ex.png\" width=\"600px\">\n",
    "</div>\n",
    "\n",
    "* Make the first clusters\n",
    "* Use **Euclidean distance** and **group average method**\n"
   ]
  },
  {
   "cell_type": "markdown",
   "metadata": {
    "slideshow": {
     "slide_type": "slide"
    }
   },
   "source": [
    "# Exercise: hierarchical clustering\n",
    "\n",
    "<div align=\"center\">\n",
    "  <img src=\"https://raw.githubusercontent.com/masaomi/EEE338_2025/master/png/distance0.png\" width=\"700px\">\n",
    "</div>\n",
    "\n"
   ]
  },
  {
   "cell_type": "markdown",
   "metadata": {
    "slideshow": {
     "slide_type": "slide"
    }
   },
   "source": [
    "# Exercise: hierarchical clustering\n",
    "\n",
    "<div align=\"center\">\n",
    "  <img src=\"https://raw.githubusercontent.com/masaomi/EEE338_2025/master/png/distance2.png\" width=\"700px\">\n",
    "    </div>"
   ]
  },
  {
   "cell_type": "markdown",
   "metadata": {
    "slideshow": {
     "slide_type": "slide"
    }
   },
   "source": [
    "# Exercise: hierarchical clustering\n",
    "\n",
    "<div align=\"center\">\n",
    "  <img src=\"https://raw.githubusercontent.com/masaomi/EEE338_2025/master/png/distance3.png\" width=\"800px\">\n",
    "</div>"
   ]
  },
  {
   "cell_type": "markdown",
   "metadata": {
    "slideshow": {
     "slide_type": "slide"
    }
   },
   "source": [
    "\n",
    "# Exercise: hierarchical clustering\n",
    "\n",
    "<div align=\"center\">\n",
    "  <img src=\"https://raw.githubusercontent.com/masaomi/EEE338_2025/master/png/distance4.png\" width=\"800px\">\n",
    "</div>"
   ]
  },
  {
   "cell_type": "markdown",
   "metadata": {
    "slideshow": {
     "slide_type": "slide"
    }
   },
   "source": [
    "# Exercise: hierarchical clustering, R *hclust*\n",
    "\n",
    "<div align=\"center\">\n",
    "  <img src=\"https://raw.githubusercontent.com/masaomi/EEE338_2025/master/png/cluster_ex_dendrogram.png\" width=\"500px\">\n",
    "</div>\n"
   ]
  },
  {
   "cell_type": "markdown",
   "metadata": {
    "slideshow": {
     "slide_type": "slide"
    }
   },
   "source": [
    "# A problem in expression data\n",
    "\n",
    "* Expression data are **NOT** normal distributed<br>\n",
    "$\\rightarrow$High and low expressed genes are not evaluated equally\n"
   ]
  },
  {
   "cell_type": "markdown",
   "metadata": {
    "slideshow": {
     "slide_type": "slide"
    }
   },
   "source": [
    "# Example\n",
    "\n",
    "<div align=\"center\">\n",
    "  <img src=\"https://raw.githubusercontent.com/masaomi/EEE338_2025/master/png/clustering_problem.png\" width=\"700px\">\n",
    "</div>\n"
   ]
  },
  {
   "cell_type": "markdown",
   "metadata": {
    "slideshow": {
     "slide_type": "fragment"
    }
   },
   "source": [
    "$\\rightarrow$Higher expressions cause longer distance"
   ]
  },
  {
   "cell_type": "markdown",
   "metadata": {
    "slideshow": {
     "slide_type": "slide"
    }
   },
   "source": [
    "# Transformation\n",
    "\n",
    "1. Squre root transformation\n",
    "2. Log transformation\n"
   ]
  },
  {
   "cell_type": "markdown",
   "metadata": {
    "slideshow": {
     "slide_type": "slide"
    }
   },
   "source": [
    "## Raw counts Histogram & Scatter plot\n",
    "\n",
    "<div align=\"center\">\n",
    "  <img src=\"https://raw.githubusercontent.com/masaomi/EEE338_2025/master/png/raw_counts.png\" width=\"800px\">\n",
    "</div>\n",
    "\n",
    "A lot of low counts and a very few high counts"
   ]
  },
  {
   "cell_type": "markdown",
   "metadata": {
    "slideshow": {
     "slide_type": "slide"
    }
   },
   "source": [
    "## Squre-root transformation Histogram & Scatter plot\n",
    "\n",
    "<div align=\"center\">\n",
    "  <img src=\"https://raw.githubusercontent.com/masaomi/EEE338_2025/master/png/sqrt_transform.png\" width=\"800px\">\n",
    "</div>\n",
    "\n",
    "Data range becomes shorter\n"
   ]
  },
  {
   "cell_type": "markdown",
   "metadata": {
    "slideshow": {
     "slide_type": "slide"
    }
   },
   "source": [
    "## $log_2$ transformation \n",
    "\n",
    "Filtering FPKM > 0, $log2$ transformed\n",
    "\n",
    "<div align=\"center\">\n",
    "  <img src=\"https://raw.githubusercontent.com/masaomi/EEE338_2025/master/png/log2_transform.png\" width=\"500px\">\n",
    "</div>\n",
    "\n",
    "1. Data range further shorter\n",
    "2. Closer to normal distirution"
   ]
  },
  {
   "cell_type": "markdown",
   "metadata": {
    "slideshow": {
     "slide_type": "slide"
    }
   },
   "source": [
    "## Scaling \n",
    "Another normalization, standardization\n",
    "\n",
    "    Feature scaling is a method used to standardize\n",
    "    the range of independent variables or features\n",
    "    of data. In data processing, it is also known\n",
    "    as data normalization and is generally performed\n",
    "    during the data preprocessing step (wikipedia).\n"
   ]
  },
  {
   "cell_type": "markdown",
   "metadata": {
    "slideshow": {
     "slide_type": "slide"
    }
   },
   "source": [
    "# Mean normalization\n",
    "\n",
    "<div align=\"center\">\n",
    "  <img src=\"https://raw.githubusercontent.com/masaomi/EEE338_2025/master/png/mean_normalization.png\" width=\"800px\">\n",
    "</div>\n",
    "\n",
    "where $x$ is an original value, $x'$ is the normalized value."
   ]
  },
  {
   "cell_type": "markdown",
   "metadata": {
    "slideshow": {
     "slide_type": "slide"
    }
   },
   "source": [
    "# Standardization (Z-score normalization)\n",
    "\n",
    "<div align=\"center\">\n",
    "  <img src=\"https://raw.githubusercontent.com/masaomi/EEE338_2025/master/png/standardization.png\" width=\"800px\">\n",
    "</div>\n",
    "\n",
    "where $x$ is the original feature vector, and $\\sigma$  is the standard deviation."
   ]
  },
  {
   "cell_type": "markdown",
   "metadata": {
    "slideshow": {
     "slide_type": "slide"
    }
   },
   "source": [
    "# Example RNAseq raw counts\n",
    "\n",
    "<div align=\"center\">\n",
    "  <img src=\"https://raw.githubusercontent.com/masaomi/EEE338_2025/master/png/non_normalization.png\" width=\"700px\">\n",
    "</div>\n",
    "\n",
    "Filtering FPKM > 1, $log_2$ transformed"
   ]
  },
  {
   "cell_type": "markdown",
   "metadata": {
    "slideshow": {
     "slide_type": "slide"
    }
   },
   "source": [
    "# Example Mean normalization\n",
    "\n",
    "<div align=\"center\">\n",
    "  <img src=\"https://raw.githubusercontent.com/masaomi/EEE338_2025/master/png/mean_norm.png\" width=\"700px\">\n",
    "</div>\n",
    "\n",
    "$\\mu=0.0$\n"
   ]
  },
  {
   "cell_type": "markdown",
   "metadata": {
    "slideshow": {
     "slide_type": "slide"
    }
   },
   "source": [
    "# Example Standard normalization\n",
    "\n",
    "<div align=\"center\">\n",
    "  <img src=\"https://raw.githubusercontent.com/masaomi/EEE338_2025/master/png/standard_norm.png\" width=\"700px\">\n",
    "</div>\n",
    "\n",
    "$\\mu = 0.0, \\sigma^2=1.0$,\n",
    "closer to the normal distribution"
   ]
  },
  {
   "cell_type": "markdown",
   "metadata": {
    "slideshow": {
     "slide_type": "slide"
    }
   },
   "source": [
    "# Mini Summary\n",
    "\n",
    "* Most of genes: low expression\n",
    "* Negative binomial distribution\n",
    "* Clustering\n",
    "  * Hierarchical\n",
    "  * Non-hierarchical\n",
    "* Tranformation data scale change\n",
    "* Normalization scaling, distribution change"
   ]
  }
 ],
 "metadata": {
  "celltoolbar": "Slideshow",
  "kernelspec": {
   "display_name": "Python 3 (ipykernel)",
   "language": "python",
   "name": "python3"
  },
  "language_info": {
   "codemirror_mode": {
    "name": "ipython",
    "version": 3
   },
   "file_extension": ".py",
   "mimetype": "text/x-python",
   "name": "python",
   "nbconvert_exporter": "python",
   "pygments_lexer": "ipython3",
   "version": "3.10.10"
  },
  "rise": {
   "chalkboard": {
    "color": [
     "rgb(250, 150, 150)",
     "rgb(250, 150, 150)"
    ]
   },
   "enable_chalkboard": true,
   "header": "<h3>EEE338 2025</h3>",
   "progress": true,
   "scroll": true,
   "slideNumber": "c/t",
   "theme": "serif",
   "transition": "zoom"
  }
 },
 "nbformat": 4,
 "nbformat_minor": 4
}
